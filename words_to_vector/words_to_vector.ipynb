{
 "cells": [
  {
   "cell_type": "code",
   "execution_count": 1,
   "metadata": {},
   "outputs": [],
   "source": [
    "import spacy\n",
    "from scipy import spatial"
   ]
  },
  {
   "cell_type": "code",
   "execution_count": 3,
   "metadata": {},
   "outputs": [
    {
     "name": "stdout",
     "output_type": "stream",
     "text": [
      "Defaulting to user installation because normal site-packages is not writeable\n",
      "Collecting en-core-web-md==3.2.0\n",
      "  Downloading https://github.com/explosion/spacy-models/releases/download/en_core_web_md-3.2.0/en_core_web_md-3.2.0-py3-none-any.whl (45.7 MB)\n",
      "\u001b[2K     \u001b[38;2;114;156;31m━━━━━━━━━━━━━━━━━━━━━━━━━━━━━━━━━━━━━━━━\u001b[0m \u001b[32m45.7/45.7 MB\u001b[0m \u001b[31m1.3 MB/s\u001b[0m eta \u001b[36m0:00:00\u001b[0mm eta \u001b[36m0:00:01\u001b[0m[36m0:00:01\u001b[0mm\n",
      "\u001b[?25hRequirement already satisfied: spacy<3.3.0,>=3.2.0 in /home/anky/.local/lib/python3.10/site-packages (from en-core-web-md==3.2.0) (3.2.4)\n",
      "Requirement already satisfied: spacy-legacy<3.1.0,>=3.0.8 in /home/anky/.local/lib/python3.10/site-packages (from spacy<3.3.0,>=3.2.0->en-core-web-md==3.2.0) (3.0.9)\n",
      "Requirement already satisfied: spacy-loggers<2.0.0,>=1.0.0 in /home/anky/.local/lib/python3.10/site-packages (from spacy<3.3.0,>=3.2.0->en-core-web-md==3.2.0) (1.0.2)\n",
      "Requirement already satisfied: murmurhash<1.1.0,>=0.28.0 in /home/anky/.local/lib/python3.10/site-packages (from spacy<3.3.0,>=3.2.0->en-core-web-md==3.2.0) (1.0.7)\n",
      "Requirement already satisfied: cymem<2.1.0,>=2.0.2 in /home/anky/.local/lib/python3.10/site-packages (from spacy<3.3.0,>=3.2.0->en-core-web-md==3.2.0) (2.0.6)\n",
      "Requirement already satisfied: preshed<3.1.0,>=3.0.2 in /home/anky/.local/lib/python3.10/site-packages (from spacy<3.3.0,>=3.2.0->en-core-web-md==3.2.0) (3.0.6)\n",
      "Requirement already satisfied: thinc<8.1.0,>=8.0.12 in /home/anky/.local/lib/python3.10/site-packages (from spacy<3.3.0,>=3.2.0->en-core-web-md==3.2.0) (8.0.17)\n",
      "Requirement already satisfied: blis<0.8.0,>=0.4.0 in /home/anky/.local/lib/python3.10/site-packages (from spacy<3.3.0,>=3.2.0->en-core-web-md==3.2.0) (0.7.8)\n",
      "Requirement already satisfied: wasabi<1.1.0,>=0.8.1 in /home/anky/.local/lib/python3.10/site-packages (from spacy<3.3.0,>=3.2.0->en-core-web-md==3.2.0) (0.9.1)\n",
      "Requirement already satisfied: srsly<3.0.0,>=2.4.1 in /home/anky/.local/lib/python3.10/site-packages (from spacy<3.3.0,>=3.2.0->en-core-web-md==3.2.0) (2.4.3)\n",
      "Requirement already satisfied: catalogue<2.1.0,>=2.0.6 in /home/anky/.local/lib/python3.10/site-packages (from spacy<3.3.0,>=3.2.0->en-core-web-md==3.2.0) (2.0.7)\n",
      "Requirement already satisfied: typer<0.5.0,>=0.3.0 in /home/anky/.local/lib/python3.10/site-packages (from spacy<3.3.0,>=3.2.0->en-core-web-md==3.2.0) (0.4.2)\n",
      "Requirement already satisfied: click<8.1.0 in /home/anky/.local/lib/python3.10/site-packages (from spacy<3.3.0,>=3.2.0->en-core-web-md==3.2.0) (8.0.4)\n",
      "Requirement already satisfied: pathy>=0.3.5 in /home/anky/.local/lib/python3.10/site-packages (from spacy<3.3.0,>=3.2.0->en-core-web-md==3.2.0) (0.6.2)\n",
      "Requirement already satisfied: tqdm<5.0.0,>=4.38.0 in /home/anky/.local/lib/python3.10/site-packages (from spacy<3.3.0,>=3.2.0->en-core-web-md==3.2.0) (4.64.0)\n",
      "Requirement already satisfied: numpy>=1.15.0 in /home/anky/.local/lib/python3.10/site-packages (from spacy<3.3.0,>=3.2.0->en-core-web-md==3.2.0) (1.23.0)\n",
      "Requirement already satisfied: requests<3.0.0,>=2.13.0 in /usr/lib/python3.10/site-packages (from spacy<3.3.0,>=3.2.0->en-core-web-md==3.2.0) (2.27.1)\n",
      "Requirement already satisfied: pydantic!=1.8,!=1.8.1,<1.9.0,>=1.7.4 in /home/anky/.local/lib/python3.10/site-packages (from spacy<3.3.0,>=3.2.0->en-core-web-md==3.2.0) (1.8.2)\n",
      "Requirement already satisfied: jinja2 in /usr/lib/python3.10/site-packages (from spacy<3.3.0,>=3.2.0->en-core-web-md==3.2.0) (3.1.2)\n",
      "Requirement already satisfied: setuptools in /usr/lib/python3.10/site-packages (from spacy<3.3.0,>=3.2.0->en-core-web-md==3.2.0) (61.3.1)\n",
      "Requirement already satisfied: packaging>=20.0 in /usr/lib/python3.10/site-packages (from spacy<3.3.0,>=3.2.0->en-core-web-md==3.2.0) (21.3)\n",
      "Requirement already satisfied: langcodes<4.0.0,>=3.2.0 in /home/anky/.local/lib/python3.10/site-packages (from spacy<3.3.0,>=3.2.0->en-core-web-md==3.2.0) (3.3.0)\n",
      "Requirement already satisfied: pyparsing!=3.0.5,>=2.0.2 in /usr/lib/python3.10/site-packages (from packaging>=20.0->spacy<3.3.0,>=3.2.0->en-core-web-md==3.2.0) (3.0.9)\n",
      "Requirement already satisfied: smart-open<6.0.0,>=5.2.1 in /home/anky/.local/lib/python3.10/site-packages (from pathy>=0.3.5->spacy<3.3.0,>=3.2.0->en-core-web-md==3.2.0) (5.2.1)\n",
      "Requirement already satisfied: typing-extensions>=3.7.4.3 in /usr/lib/python3.10/site-packages (from pydantic!=1.8,!=1.8.1,<1.9.0,>=1.7.4->spacy<3.3.0,>=3.2.0->en-core-web-md==3.2.0) (4.2.0)\n",
      "Requirement already satisfied: chardet>=3.0.2 in /usr/lib/python3.10/site-packages (from requests<3.0.0,>=2.13.0->spacy<3.3.0,>=3.2.0->en-core-web-md==3.2.0) (4.0.0)\n",
      "Requirement already satisfied: idna>=2.5 in /usr/lib/python3.10/site-packages (from requests<3.0.0,>=2.13.0->spacy<3.3.0,>=3.2.0->en-core-web-md==3.2.0) (3.3)\n",
      "Requirement already satisfied: urllib3>=1.21.1 in /usr/lib/python3.10/site-packages (from requests<3.0.0,>=2.13.0->spacy<3.3.0,>=3.2.0->en-core-web-md==3.2.0) (1.26.9)\n",
      "Requirement already satisfied: MarkupSafe>=2.0 in /usr/lib/python3.10/site-packages (from jinja2->spacy<3.3.0,>=3.2.0->en-core-web-md==3.2.0) (2.1.1)\n",
      "Installing collected packages: en-core-web-md\n",
      "Successfully installed en-core-web-md-3.2.0\n",
      "\u001b[38;5;2m✔ Download and installation successful\u001b[0m\n",
      "You can now load the package via spacy.load('en_core_web_md')\n"
     ]
    }
   ],
   "source": [
    "! spacy download en_core_web_md"
   ]
  },
  {
   "cell_type": "code",
   "execution_count": 4,
   "metadata": {},
   "outputs": [
    {
     "data": {
      "text/plain": [
       "['tok2vec', 'tagger', 'parser', 'attribute_ruler', 'lemmatizer', 'ner']"
      ]
     },
     "execution_count": 4,
     "metadata": {},
     "output_type": "execute_result"
    }
   ],
   "source": [
    "nlp = spacy.load('en_core_web_md')\n",
    "nlp.pipe_names"
   ]
  },
  {
   "cell_type": "code",
   "execution_count": 5,
   "metadata": {},
   "outputs": [
    {
     "name": "stdout",
     "output_type": "stream",
     "text": [
      "773\n",
      "20000\n"
     ]
    }
   ],
   "source": [
    "# md model --> 685k keys, 20k unique vectors (300 dimensions)\n",
    "# lg model --> 685k keys, 685k unique vectors (300 dimensions)\n",
    "\n",
    "print(len(nlp.vocab))\n",
    "print(len(nlp.vocab.vectors))"
   ]
  },
  {
   "cell_type": "code",
   "execution_count": 6,
   "metadata": {},
   "outputs": [
    {
     "data": {
      "text/plain": [
       "(300,)"
      ]
     },
     "execution_count": 6,
     "metadata": {},
     "output_type": "execute_result"
    }
   ],
   "source": [
    "nlp(u'lion').vector.shape"
   ]
  },
  {
   "cell_type": "code",
   "execution_count": 7,
   "metadata": {},
   "outputs": [
    {
     "name": "stdout",
     "output_type": "stream",
     "text": [
      "cat cat 1.0\n",
      "cat lion 0.5265437960624695\n",
      "cat pet 0.7505456805229187\n",
      "lion cat 0.5265437960624695\n",
      "lion lion 1.0\n",
      "lion pet 0.39923766255378723\n",
      "pet cat 0.7505456805229187\n",
      "pet lion 0.39923766255378723\n",
      "pet pet 1.0\n"
     ]
    }
   ],
   "source": [
    "tokens = nlp(u'cat lion pet')\n",
    "\n",
    "for t1 in tokens:\n",
    "    for t2 in tokens:\n",
    "        print(t1.text,t2.text,t1.similarity(t2))"
   ]
  },
  {
   "cell_type": "code",
   "execution_count": 14,
   "metadata": {},
   "outputs": [
    {
     "name": "stdout",
     "output_type": "stream",
     "text": [
      "dog True 7.0336733 False\n",
      "cat True 6.6808186 False\n",
      "horse True 6.760544 False\n",
      "prince True 6.5258965 False\n"
     ]
    }
   ],
   "source": [
    "tokens = nlp(u'dog cat horse prince')\n",
    "for t in tokens:\n",
    "    print(t.text,t.has_vector,t.vector_norm,t.is_oov)"
   ]
  },
  {
   "cell_type": "code",
   "execution_count": 15,
   "metadata": {},
   "outputs": [],
   "source": [
    "# Words to Vectors\n",
    "king = nlp(u'king').vector\n",
    "man = nlp(u'man').vector\n",
    "woman = nlp(u'woman').vector"
   ]
  },
  {
   "cell_type": "code",
   "execution_count": 16,
   "metadata": {},
   "outputs": [
    {
     "data": {
      "text/plain": [
       "array([ 5.14087021e-01, -2.78459996e-01,  2.42767006e-01,  4.54899669e-02,\n",
       "       -2.59425014e-01, -3.19999963e-01,  3.23920012e-01, -6.71030045e-01,\n",
       "       -9.98499990e-02,  1.91499996e+00, -5.68080008e-01, -2.74451017e-01,\n",
       "       -1.49906695e-01,  8.01083148e-02, -2.34764010e-01, -1.10950008e-01,\n",
       "       -1.02593988e-01,  8.53819966e-01, -2.68564999e-01,  3.85140002e-01,\n",
       "       -1.36149988e-01,  6.35029972e-01, -7.62044966e-01, -2.52770007e-01,\n",
       "       -6.75969958e-01,  3.89851004e-01, -2.89680034e-01,  1.75860003e-01,\n",
       "       -5.16229987e-01,  5.21373034e-01, -1.89909995e-01,  6.73759937e-01,\n",
       "        1.17550008e-01, -4.69896019e-01,  5.88999987e-01,  1.29447982e-01,\n",
       "       -5.71900010e-01, -5.47450066e-01, -4.84210014e-01,  5.85503951e-02,\n",
       "        4.82379973e-01, -2.86769986e-01, -2.01718003e-01, -4.74729985e-01,\n",
       "        3.43068987e-01, -2.28827983e-01, -1.76439017e-01,  6.05450034e-01,\n",
       "        2.07139999e-01, -2.89762974e-01, -7.63288975e-01,  4.37090009e-01,\n",
       "       -2.06220001e-01, -4.20252979e-01,  1.98040009e-01,  3.18709970e-01,\n",
       "       -9.51815993e-02, -3.23054016e-01, -6.02343976e-01,  2.33427018e-01,\n",
       "       -2.15409994e-02, -6.29774988e-01,  3.72432500e-01,  3.41740012e-01,\n",
       "        5.81782043e-01,  7.02129960e-01,  7.19299972e-01,  3.28493983e-01,\n",
       "        3.36353004e-01,  1.06999278e-03, -5.53239942e-01, -2.46219993e-01,\n",
       "       -6.37116969e-01, -1.72280014e-01,  8.97620022e-01, -1.38548493e-01,\n",
       "       -5.71600199e-02,  6.41870022e-01,  3.89845997e-01, -3.98499995e-01,\n",
       "       -7.28532076e-01,  9.17530134e-02, -3.40600014e-01,  3.46671015e-01,\n",
       "       -2.63424516e-01,  3.68355006e-01,  8.78340006e-01, -1.57473043e-01,\n",
       "       -4.29450005e-01, -4.91259992e-01, -1.23234093e-02,  3.27509999e-01,\n",
       "        1.44889995e-01, -3.27081025e-01,  9.45929945e-01, -8.07909966e-01,\n",
       "       -2.07101002e-01, -8.87000561e-03, -5.59080057e-02,  7.93069959e-01,\n",
       "        3.58245999e-01,  6.05069995e-01,  1.01848006e-01, -1.89061001e-01,\n",
       "        1.09030008e-02, -7.64109969e-01, -5.05369961e-01, -1.11367017e-01,\n",
       "        6.56607985e-01, -1.48448005e-01,  1.30866021e-01,  6.62039995e-01,\n",
       "       -1.54300034e-02, -4.17466015e-01, -4.54553008e-01, -5.05975008e-01,\n",
       "        4.15473014e-01,  4.00425017e-01,  7.88707018e-01, -5.19399941e-02,\n",
       "       -3.91889989e-01,  8.31609964e-02,  4.58730012e-01,  1.23339996e-01,\n",
       "        2.39246994e-01,  3.81098986e-01,  1.86000004e-01,  2.69684941e-02,\n",
       "       -5.55605292e-01,  2.53284007e-01, -6.67639971e-01, -5.55985987e-01,\n",
       "       -3.71130019e-01, -6.53919995e-01, -1.09452009e-01, -6.04629993e-01,\n",
       "       -4.62760001e-01,  3.97581995e-01, -3.26649994e-01,  2.60998994e-01,\n",
       "       -2.09120011e+00, -2.76019007e-01,  2.68036008e-01, -3.35714996e-01,\n",
       "       -4.75513011e-01, -2.83890069e-02,  4.40270007e-01,  2.24150002e-01,\n",
       "       -4.50639009e-01, -6.16590083e-01,  1.10599995e-01, -3.00589710e-01,\n",
       "        1.24530017e-01,  2.99279988e-01,  3.03467005e-01, -3.42969984e-01,\n",
       "        3.93694013e-01, -5.84149957e-01, -1.88180000e-01,  2.98162013e-01,\n",
       "       -1.80879980e-01, -3.70599926e-02,  4.09860015e-02, -8.07899833e-02,\n",
       "        3.92280012e-01, -4.94572997e-01,  4.01719987e-01,  8.48469973e-01,\n",
       "       -1.94183022e-01,  4.29439992e-01, -6.07819974e-01, -9.71959978e-02,\n",
       "        3.55786979e-01, -1.79980025e-02, -5.83269954e-01, -2.50129998e-01,\n",
       "        2.80330002e-01, -3.72725993e-01, -7.41009951e-01,  1.03881419e-01,\n",
       "        8.04000199e-02, -1.64650023e-01,  1.09247290e-01, -5.68639994e-01,\n",
       "        4.11399961e-01,  5.69249988e-01, -2.14549989e-01, -1.56975001e-01,\n",
       "        9.64879990e-02,  2.01149940e-01, -9.81989980e-01, -9.00639057e-01,\n",
       "        1.57496989e-01, -1.24968991e-01,  9.11729932e-02, -5.17108977e-01,\n",
       "        6.34269863e-02,  1.72169998e-01, -2.36945987e-01, -7.58899987e-01,\n",
       "        5.74868977e-01,  6.10739946e-01,  8.88329893e-02, -2.59585023e-01,\n",
       "       -9.03399587e-02, -8.53200257e-02,  1.69609979e-01, -7.29799643e-03,\n",
       "       -2.05680996e-01, -1.93440005e-01, -4.92264986e-01,  3.19920003e-01,\n",
       "       -3.66147995e-01,  5.69279015e-01,  6.27799928e-02,  7.91899860e-02,\n",
       "       -3.93792808e-01,  4.87831026e-01, -3.85988951e-02,  7.52799988e-01,\n",
       "        1.74212992e-01, -6.07100964e-01,  4.81240004e-01,  1.49755001e-01,\n",
       "        4.32273030e-01,  2.77104974e-01,  4.56589013e-01, -3.32702011e-01,\n",
       "       -2.80999988e-01,  6.35839045e-01,  1.15425006e-01,  7.80760050e-02,\n",
       "        3.17489982e-01, -4.80073988e-01,  4.07790095e-02, -8.21070611e-01,\n",
       "       -1.63500011e-03, -3.97460014e-01, -9.85880196e-02, -5.31642020e-01,\n",
       "       -4.52499986e-02, -4.23010021e-01,  1.44284993e-01, -7.62080014e-01,\n",
       "        2.15179995e-01, -7.05516994e-01,  6.44015014e-01, -9.44310054e-02,\n",
       "       -5.36169946e-01, -1.31442308e+00,  4.51058030e-01,  1.44240022e-01,\n",
       "        3.84460092e-02, -1.80320218e-02, -2.95219988e-01,  4.90060002e-01,\n",
       "        3.83020639e-02, -1.70519948e-02, -7.32708037e-01,  5.04490495e-01,\n",
       "        1.77098006e-01,  5.36670089e-02, -2.40814000e-01, -8.20799917e-02,\n",
       "        2.19249994e-01, -4.58490014e-01,  3.68449986e-01,  3.09300005e-01,\n",
       "       -1.21967995e+00, -2.55998999e-01, -8.38758051e-01, -1.99926004e-01,\n",
       "       -3.38140011e-01, -8.05199146e-03,  1.42598450e-02, -3.56069952e-01,\n",
       "        8.31499994e-02,  2.89311975e-01,  5.29001653e-03, -1.11837029e-01,\n",
       "        1.28127396e+00,  8.09929967e-01,  5.58990002e-01, -2.18623012e-01,\n",
       "       -1.70580015e-01,  7.43115008e-01, -1.40369982e-01,  2.97093987e-01,\n",
       "       -3.28552961e-01, -3.10106993e-01,  1.80748999e-01,  3.05629998e-01,\n",
       "        2.17199922e-02, -4.68929976e-01, -1.95840016e-01,  6.82327509e-01,\n",
       "       -2.89168000e-01, -7.09619969e-02,  8.64340067e-01, -3.79067004e-01],\n",
       "      dtype=float32)"
      ]
     },
     "execution_count": 16,
     "metadata": {},
     "output_type": "execute_result"
    }
   ],
   "source": [
    "# creating the new vector\n",
    "\n",
    "new_vector = king-man+woman\n",
    "new_vector"
   ]
  },
  {
   "cell_type": "code",
   "execution_count": 17,
   "metadata": {},
   "outputs": [],
   "source": [
    "cosine_similarity = lambda vec1,vec2 : 1-spatial.distance.cosine(vec1,vec2)"
   ]
  },
  {
   "cell_type": "code",
   "execution_count": 18,
   "metadata": {},
   "outputs": [],
   "source": [
    "similarities = []\n",
    "\n",
    "for word in nlp.vocab:\n",
    "    if word.has_vector and word.is_alpha and word.is_lower:\n",
    "        similarities.append((cosine_similarity(new_vector,word.vector),word.text))"
   ]
  },
  {
   "cell_type": "code",
   "execution_count": 19,
   "metadata": {},
   "outputs": [
    {
     "name": "stdout",
     "output_type": "stream",
     "text": [
      "king\n",
      "prince\n",
      "woman\n",
      "she\n",
      "lion\n",
      "who\n",
      "when\n",
      "sharma\n",
      "dare\n",
      "horse\n"
     ]
    }
   ],
   "source": [
    "# as we can observe that for a vector like king-man+woman we obviously expect a queen and it \n",
    "#proves to be successful in getting that\n",
    "\n",
    "for similarity,word in  sorted(similarities,reverse=True)[:10]:\n",
    "    print(word)"
   ]
  },
  {
   "cell_type": "code",
   "execution_count": null,
   "metadata": {},
   "outputs": [],
   "source": []
  }
 ],
 "metadata": {
  "kernelspec": {
   "display_name": "Python 3.10.5 64-bit",
   "language": "python",
   "name": "python3"
  },
  "language_info": {
   "codemirror_mode": {
    "name": "ipython",
    "version": 3
   },
   "file_extension": ".py",
   "mimetype": "text/x-python",
   "name": "python",
   "nbconvert_exporter": "python",
   "pygments_lexer": "ipython3",
   "version": "3.10.5"
  },
  "orig_nbformat": 4,
  "vscode": {
   "interpreter": {
    "hash": "e7370f93d1d0cde622a1f8e1c04877d8463912d04d973331ad4851f04de6915a"
   }
  }
 },
 "nbformat": 4,
 "nbformat_minor": 2
}
