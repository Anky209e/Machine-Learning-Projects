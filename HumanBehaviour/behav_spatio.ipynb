{
 "cells": [
  {
   "cell_type": "code",
   "execution_count": 1,
   "metadata": {},
   "outputs": [],
   "source": [
    "from keras.callbacks import ModelCheckpoint, EarlyStopping\n",
    "import numpy as np\n",
    "import keras\n",
    "from keras.layers import Conv3D,ConvLSTM2D,Conv3DTranspose\n",
    "from keras.models import Sequential\n",
    "import numpy as np\n",
    "import glob\n",
    "import os\n",
    "import cv2 as cv"
   ]
  },
  {
   "cell_type": "markdown",
   "metadata": {},
   "source": [
    "## Preprocessing Data"
   ]
  },
  {
   "cell_type": "code",
   "execution_count": 4,
   "metadata": {},
   "outputs": [],
   "source": [
    "imagestore=[]\n",
    "video_source_path= \"demo\"\n",
    "fps=2 # skips 1 fps\n",
    "def create_dir(path):\n",
    "\tif not os.path.exists(path):\n",
    "\t\tos.makedirs(path)\n",
    "def remove_images(path):\n",
    "\tfilelist = glob.glob(os.path.join(path, \"*.png\"))\n",
    "\tfor f in filelist:\n",
    "\t\tos.remove(f)\n",
    "\n",
    "def store(image_path):\n",
    "\timg = cv.imread(image_path)\n",
    "\tgray = cv.cvtColor(img, cv.COLOR_BGR2GRAY)\n",
    "\tgray = cv.resize(gray,(227,227),interpolation=cv.INTER_LINEAR_EXACT)\n",
    "\timagestore.append(gray)"
   ]
  },
  {
   "cell_type": "code",
   "execution_count": 5,
   "metadata": {},
   "outputs": [
    {
     "name": "stderr",
     "output_type": "stream",
     "text": [
      "ffmpeg version n5.0 Copyright (c) 2000-2022 the FFmpeg developers\n",
      "  built with gcc 11.2.0 (GCC)\n",
      "  configuration: --prefix=/usr --disable-debug --disable-static --disable-stripping --enable-amf --enable-avisynth --enable-cuda-llvm --enable-lto --enable-fontconfig --enable-gmp --enable-gnutls --enable-gpl --enable-ladspa --enable-libaom --enable-libass --enable-libbluray --enable-libdav1d --enable-libdrm --enable-libfreetype --enable-libfribidi --enable-libgsm --enable-libiec61883 --enable-libjack --enable-libmfx --enable-libmodplug --enable-libmp3lame --enable-libopencore_amrnb --enable-libopencore_amrwb --enable-libopenjpeg --enable-libopus --enable-libpulse --enable-librav1e --enable-librsvg --enable-libsoxr --enable-libspeex --enable-libsrt --enable-libssh --enable-libsvtav1 --enable-libtheora --enable-libv4l2 --enable-libvidstab --enable-libvmaf --enable-libvorbis --enable-libvpx --enable-libwebp --enable-libx264 --enable-libx265 --enable-libxcb --enable-libxml2 --enable-libxvid --enable-libzimg --enable-nvdec --enable-nvenc --enable-shared --enable-version3\n",
      "  libavutil      57. 17.100 / 57. 17.100\n",
      "  libavcodec     59. 18.100 / 59. 18.100\n",
      "  libavformat    59. 16.100 / 59. 16.100\n",
      "  libavdevice    59.  4.100 / 59.  4.100\n",
      "  libavfilter     8. 24.100 /  8. 24.100\n",
      "  libswscale      6.  4.100 /  6.  4.100\n",
      "  libswresample   4.  3.100 /  4.  3.100\n",
      "  libpostproc    56.  3.100 / 56.  3.100\n",
      "Input #0, mov,mp4,m4a,3gp,3g2,mj2, from 'demo/f4.mp4':\n",
      "  Metadata:\n",
      "    major_brand     : isom\n",
      "    minor_version   : 512\n",
      "    compatible_brands: isomiso2avc1mp41\n",
      "    encoder         : Lavf58.45.100\n",
      "  Duration: 00:01:52.66, start: 0.000000, bitrate: 691 kb/s\n",
      "  Stream #0:0[0x1](und): Video: h264 (Main) (avc1 / 0x31637661), yuv420p(tv, bt709, progressive), 480x480 [SAR 1:1 DAR 1:1], 555 kb/s, 29.97 fps, 29.97 tbr, 30k tbn (default)\n",
      "    Metadata:\n",
      "      handler_name    : ISO Media file produced by Google Inc. Created on: 02/16/2019.\n",
      "      vendor_id       : [0][0][0][0]\n",
      "  Stream #0:1[0x2](eng): Audio: aac (LC) (mp4a / 0x6134706D), 44100 Hz, stereo, fltp, 128 kb/s (default)\n",
      "    Metadata:\n",
      "      handler_name    : ISO Media file produced by Google Inc. Created on: 02/16/2019.\n",
      "      vendor_id       : [0][0][0][0]\n",
      "Stream mapping:\n",
      "  Stream #0:0 -> #0:0 (h264 (native) -> mjpeg (native))\n",
      "Press [q] to stop, [?] for help\n",
      "[swscaler @ 0x564c197c7500] [swscaler @ 0x564c197d4c00] deprecated pixel format used, make sure you did set range correctly\n",
      "[swscaler @ 0x564c197c7500] [swscaler @ 0x564c197f3c80] deprecated pixel format used, make sure you did set range correctly\n",
      "[swscaler @ 0x564c197c7500] [swscaler @ 0x564c19812840] deprecated pixel format used, make sure you did set range correctly\n",
      "[swscaler @ 0x564c197c7500] [swscaler @ 0x564c19830480] deprecated pixel format used, make sure you did set range correctly\n",
      "[swscaler @ 0x564c197c7500] [swscaler @ 0x564c1984f040] deprecated pixel format used, make sure you did set range correctly\n",
      "[swscaler @ 0x564c197c7500] [swscaler @ 0x564c1986dc00] deprecated pixel format used, make sure you did set range correctly\n",
      "[swscaler @ 0x564c197c7500] [swscaler @ 0x564c1988c7c0] deprecated pixel format used, make sure you did set range correctly\n",
      "[swscaler @ 0x564c197c7500] [swscaler @ 0x564c198ab380] deprecated pixel format used, make sure you did set range correctly\n",
      "[swscaler @ 0x564c197c7500] [swscaler @ 0x564c198c8fc0] deprecated pixel format used, make sure you did set range correctly\n",
      "Output #0, image2, to 'demo/frames/%03d.jpg':\n",
      "  Metadata:\n",
      "    major_brand     : isom\n",
      "    minor_version   : 512\n",
      "    compatible_brands: isomiso2avc1mp41\n",
      "    encoder         : Lavf59.16.100\n",
      "  Stream #0:0(und): Video: mjpeg, yuvj420p(pc, bt709, progressive), 480x480 [SAR 1:1 DAR 1:1], q=2-31, 200 kb/s, 0.50 fps, 0.50 tbn (default)\n",
      "    Metadata:\n",
      "      handler_name    : ISO Media file produced by Google Inc. Created on: 02/16/2019.\n",
      "      vendor_id       : [0][0][0][0]\n",
      "      encoder         : Lavc59.18.100 mjpeg\n",
      "    Side data:\n",
      "      cpb: bitrate max/min/avg: 0/0/200000 buffer size: 0 vbv_delay: N/A\n",
      "frame=   58 fps= 11 q=1.6 Lsize=N/A time=00:01:56.00 bitrate=N/A dup=0 drop=3317 speed=22.8x    \n",
      "video:1756kB audio:0kB subtitle:0kB other streams:0kB global headers:0kB muxing overhead: unknown\n"
     ]
    },
    {
     "data": {
      "text/plain": [
       "0"
      ]
     },
     "execution_count": 5,
     "metadata": {},
     "output_type": "execute_result"
    }
   ],
   "source": [
    "videos = os.listdir(video_source_path)\n",
    "create_dir(video_source_path+'/frames')\n",
    "remove_images(video_source_path+'/frames')\n",
    "framepath = video_source_path+'/frames'\n",
    "for video in videos:\n",
    "\t\tos.system( 'ffmpeg -i {}/{} -r 1/{}  {}/frames/%03d.jpg'.format(video_source_path,video,fps,video_source_path))\n",
    "\t\timages=os.listdir(framepath)\n",
    "\t\tfor image in images:\n",
    "\t\t\timage_path=framepath+ '/'+ image\n",
    "\t\t\tstore(image_path)\n",
    "imagestore=np.array(imagestore)\n",
    "a,b,c=imagestore.shape\n",
    "imagestore.resize(b,c,a)\n",
    "imagestore=(imagestore-imagestore.mean())/(imagestore.std())\n",
    "imagestore=np.clip(imagestore,0,1)\n",
    "np.save('f4.npy',imagestore)\n",
    "os.system('rm -r {}'.format(framepath))"
   ]
  },
  {
   "cell_type": "code",
   "execution_count": null,
   "metadata": {},
   "outputs": [],
   "source": [
    "# loading training data which is in .npy file\n",
    "X_train=np.load('main_data/train_avenue_fnl2.npy')\n",
    "frames=X_train.shape[2]\n",
    "frames"
   ]
  },
  {
   "cell_type": "code",
   "execution_count": null,
   "metadata": {},
   "outputs": [],
   "source": [
    "frames=frames-frames%10\n",
    "\n",
    "\n",
    "X_train=X_train[:,:,:frames]\n",
    "\n",
    "# reshaping Xtrain to 10 X 1 X 227 X 227\n",
    "\n",
    "X_train=X_train.reshape(-1,227,227,10)\n",
    "\n",
    "X_train=np.expand_dims(X_train,axis=4)\n",
    "\n",
    "Y_train=X_train.copy()\n"
   ]
  },
  {
   "cell_type": "code",
   "execution_count": null,
   "metadata": {},
   "outputs": [],
   "source": [
    "batch_size = 4"
   ]
  },
  {
   "cell_type": "markdown",
   "metadata": {},
   "source": [
    "### Spatio Temporal Model"
   ]
  },
  {
   "cell_type": "code",
   "execution_count": null,
   "metadata": {},
   "outputs": [],
   "source": [
    "def loadModel():\n",
    "\n",
    "\n",
    "    STModel = Sequential()\n",
    "\n",
    "    STModel.add(Conv3D(filters=128, kernel_size=(11, 11, 1), strides=(4, 4, 1), padding='valid', input_shape=(227, 227, 10, 1), activation='relu'))\n",
    "    STModel.add(Conv3D(filters=64, kernel_size=(5, 5, 1), strides=(2, 2, 1), padding='valid', activation='relu'))\n",
    "\n",
    "    STModel.add(ConvLSTM2D(filters=64, kernel_size=(3, 3), strides=1, padding='same', dropout=0.4, recurrent_dropout=0.3, return_sequences=True))\n",
    "    STModel.add(ConvLSTM2D(filters=64, kernel_size=(3, 3), strides=1, return_sequences=True, padding='same', dropout=0.5))\n",
    "\n",
    "    STModel.add(Conv3DTranspose(filters=128,kernel_size=(5,5,1),strides=(2,2,1),padding='valid',activation='relu'))\n",
    "    STModel.add(Conv3DTranspose(filters=1,kernel_size=(11,11,1),strides=(4,4,1),padding='valid',activation='relu'))\n",
    "\n",
    "\n",
    "    STModel.compile(optimizer='SGD', loss='mse', metrics=['loss'])\n",
    "\n",
    "    return STModel\n"
   ]
  },
  {
   "cell_type": "code",
   "execution_count": null,
   "metadata": {},
   "outputs": [],
   "source": [
    "epochs = 10"
   ]
  },
  {
   "cell_type": "code",
   "execution_count": null,
   "metadata": {},
   "outputs": [],
   "source": [
    "model=loadModel()\n",
    "\n",
    "save = ModelCheckpoint(\"behaviour_spt.h5\",\n",
    "\t\t\t\t\t\t\t\t\tmonitor=\"mse\", save_best_only=False)\n",
    "\n",
    "stopping_point = EarlyStopping(monitor='loss', patience=3)\n",
    "\n",
    "print('Model has been loaded')\n",
    "\n",
    "model.fit(X_train,Y_train,\n",
    "\t\t\t  batch_size=batch_size,\n",
    "\t\t\t  epochs=epochs,\n",
    "\t\t\t  callbacks = [save,stopping_point]\n",
    "\t\t\t  )"
   ]
  },
  {
   "cell_type": "code",
   "execution_count": null,
   "metadata": {},
   "outputs": [],
   "source": [
    "from keras.models import load_model\n",
    "import numpy as np\n",
    "def mean_squared(x1, x2):\n",
    "    difference = x1 - x2\n",
    "    a,b,c,d,e = difference.shape\n",
    "    n_samples = a*b*c*d*e\n",
    "    sq_diff = difference ** 2\n",
    "    Sum = sq_diff.sum()\n",
    "    dist = np.sqrt(Sum)\n",
    "    mean_dist = dist / n_samples\n",
    "    return mean_dist"
   ]
  },
  {
   "cell_type": "code",
   "execution_count": null,
   "metadata": {},
   "outputs": [],
   "source": [
    "threshold=0.0004"
   ]
  },
  {
   "cell_type": "markdown",
   "metadata": {},
   "source": [
    "## Return True if there are abnormal events in Video."
   ]
  },
  {
   "cell_type": "code",
   "execution_count": null,
   "metadata": {},
   "outputs": [],
   "source": [
    "def predict_anomly(weights_path,path_to_npy_processed_video_file):\n",
    "    model=load_model(weights_path)\n",
    "\n",
    "    X_test=np.load(path_to_npy_processed_video_file)\n",
    "    frames=X_test.shape[2]\n",
    "\n",
    "    Anomality  = False\n",
    "\n",
    "    frames=frames-frames%10\n",
    "\n",
    "    X_test=X_test[:,:,:frames]\n",
    "    X_test=X_test.reshape(-1,227,227,10)\n",
    "    X_test=np.expand_dims(X_test,axis=4)\n",
    "    a_frames = []\n",
    "    for number,bunch in enumerate(X_test):\n",
    "        n_bunch=np.expand_dims(bunch,axis=0)\n",
    "        reconstructed_bunch=model.predict(n_bunch)\n",
    "        loss=mean_squared(n_bunch,reconstructed_bunch)\n",
    "        if loss>threshold:\n",
    "            print(\"Anomalous frames @ {}\".format(number))\n",
    "            a_frames.append(number)\n",
    "            Anomality = True\n",
    "        else:\n",
    "            continue\n",
    "\n",
    "    if len(a_frames) > 0:\n",
    "        \n",
    "        return Anomality,a_frames\n",
    "    else:\n",
    "        a = []\n",
    "        return Anomality,a"
   ]
  },
  {
   "cell_type": "code",
   "execution_count": null,
   "metadata": {},
   "outputs": [],
   "source": [
    "print(predict_anomly(\"weights_hb/Human_behaviour_73.h5\",\"test_video_frames.npy\"))"
   ]
  }
 ],
 "metadata": {
  "interpreter": {
   "hash": "767d51c1340bd893661ea55ea3124f6de3c7a262a8b4abca0554b478b1e2ff90"
  },
  "kernelspec": {
   "display_name": "Python 3.10.2 64-bit",
   "language": "python",
   "name": "python3"
  },
  "language_info": {
   "codemirror_mode": {
    "name": "ipython",
    "version": 3
   },
   "file_extension": ".py",
   "mimetype": "text/x-python",
   "name": "python",
   "nbconvert_exporter": "python",
   "pygments_lexer": "ipython3",
   "version": "3.10.2"
  },
  "orig_nbformat": 4
 },
 "nbformat": 4,
 "nbformat_minor": 2
}
