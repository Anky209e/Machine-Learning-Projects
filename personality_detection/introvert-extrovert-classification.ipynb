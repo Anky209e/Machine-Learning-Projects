{
 "cells": [
  {
   "cell_type": "markdown",
   "metadata": {
    "papermill": {
     "duration": 0.013247,
     "end_time": "2020-11-28T21:19:52.061548",
     "exception": false,
     "start_time": "2020-11-28T21:19:52.048301",
     "status": "completed"
    },
    "tags": []
   },
   "source": [
    "# Getting Started"
   ]
  },
  {
   "cell_type": "code",
   "execution_count": 1,
   "metadata": {
    "_cell_guid": "79c7e3d0-c299-4dcb-8224-4455121ee9b0",
    "_uuid": "d629ff2d2480ee46fbb7e2d37f6b5fab8052498a",
    "execution": {
     "iopub.execute_input": "2020-11-28T21:19:52.096845Z",
     "iopub.status.busy": "2020-11-28T21:19:52.095985Z",
     "iopub.status.idle": "2020-11-28T21:19:58.646251Z",
     "shell.execute_reply": "2020-11-28T21:19:58.645361Z"
    },
    "papermill": {
     "duration": 6.570863,
     "end_time": "2020-11-28T21:19:58.646393",
     "exception": false,
     "start_time": "2020-11-28T21:19:52.075530",
     "status": "completed"
    },
    "tags": []
   },
   "outputs": [],
   "source": [
    "import numpy as np\n",
    "import pandas as pd\n",
    "\n",
    "from nltk.corpus import stopwords\n",
    "\n",
    "from tensorflow.keras.preprocessing.text import Tokenizer\n",
    "from tensorflow.keras.preprocessing.sequence import pad_sequences\n",
    "\n",
    "from sklearn.model_selection import train_test_split\n",
    "\n",
    "import tensorflow as tf"
   ]
  },
  {
   "cell_type": "code",
   "execution_count": 2,
   "metadata": {
    "execution": {
     "iopub.execute_input": "2020-11-28T21:19:58.688521Z",
     "iopub.status.busy": "2020-11-28T21:19:58.687768Z",
     "iopub.status.idle": "2020-11-28T21:19:59.384519Z",
     "shell.execute_reply": "2020-11-28T21:19:59.383356Z"
    },
    "papermill": {
     "duration": 0.723794,
     "end_time": "2020-11-28T21:19:59.384647",
     "exception": false,
     "start_time": "2020-11-28T21:19:58.660853",
     "status": "completed"
    },
    "tags": []
   },
   "outputs": [],
   "source": [
    "data = pd.read_csv('mbti_1.csv')"
   ]
  },
  {
   "cell_type": "code",
   "execution_count": 3,
   "metadata": {
    "execution": {
     "iopub.execute_input": "2020-11-28T21:19:59.432876Z",
     "iopub.status.busy": "2020-11-28T21:19:59.431791Z",
     "iopub.status.idle": "2020-11-28T21:19:59.442099Z",
     "shell.execute_reply": "2020-11-28T21:19:59.442795Z"
    },
    "papermill": {
     "duration": 0.043803,
     "end_time": "2020-11-28T21:19:59.442968",
     "exception": false,
     "start_time": "2020-11-28T21:19:59.399165",
     "status": "completed"
    },
    "tags": []
   },
   "outputs": [
    {
     "data": {
      "text/html": [
       "<div>\n",
       "<style scoped>\n",
       "    .dataframe tbody tr th:only-of-type {\n",
       "        vertical-align: middle;\n",
       "    }\n",
       "\n",
       "    .dataframe tbody tr th {\n",
       "        vertical-align: top;\n",
       "    }\n",
       "\n",
       "    .dataframe thead th {\n",
       "        text-align: right;\n",
       "    }\n",
       "</style>\n",
       "<table border=\"1\" class=\"dataframe\">\n",
       "  <thead>\n",
       "    <tr style=\"text-align: right;\">\n",
       "      <th></th>\n",
       "      <th>type</th>\n",
       "      <th>posts</th>\n",
       "    </tr>\n",
       "  </thead>\n",
       "  <tbody>\n",
       "    <tr>\n",
       "      <th>0</th>\n",
       "      <td>INFJ</td>\n",
       "      <td>'http://www.youtube.com/watch?v=qsXHcwe3krw|||...</td>\n",
       "    </tr>\n",
       "    <tr>\n",
       "      <th>1</th>\n",
       "      <td>ENTP</td>\n",
       "      <td>'I'm finding the lack of me in these posts ver...</td>\n",
       "    </tr>\n",
       "    <tr>\n",
       "      <th>2</th>\n",
       "      <td>INTP</td>\n",
       "      <td>'Good one  _____   https://www.youtube.com/wat...</td>\n",
       "    </tr>\n",
       "    <tr>\n",
       "      <th>3</th>\n",
       "      <td>INTJ</td>\n",
       "      <td>'Dear INTP,   I enjoyed our conversation the o...</td>\n",
       "    </tr>\n",
       "    <tr>\n",
       "      <th>4</th>\n",
       "      <td>ENTJ</td>\n",
       "      <td>'You're fired.|||That's another silly misconce...</td>\n",
       "    </tr>\n",
       "  </tbody>\n",
       "</table>\n",
       "</div>"
      ],
      "text/plain": [
       "   type                                              posts\n",
       "0  INFJ  'http://www.youtube.com/watch?v=qsXHcwe3krw|||...\n",
       "1  ENTP  'I'm finding the lack of me in these posts ver...\n",
       "2  INTP  'Good one  _____   https://www.youtube.com/wat...\n",
       "3  INTJ  'Dear INTP,   I enjoyed our conversation the o...\n",
       "4  ENTJ  'You're fired.|||That's another silly misconce..."
      ]
     },
     "execution_count": 3,
     "metadata": {},
     "output_type": "execute_result"
    }
   ],
   "source": [
    "data.head()"
   ]
  },
  {
   "cell_type": "code",
   "execution_count": 4,
   "metadata": {
    "execution": {
     "iopub.execute_input": "2020-11-28T21:19:59.489428Z",
     "iopub.status.busy": "2020-11-28T21:19:59.488522Z",
     "iopub.status.idle": "2020-11-28T21:19:59.493576Z",
     "shell.execute_reply": "2020-11-28T21:19:59.493028Z"
    },
    "papermill": {
     "duration": 0.035084,
     "end_time": "2020-11-28T21:19:59.493690",
     "exception": false,
     "start_time": "2020-11-28T21:19:59.458606",
     "status": "completed"
    },
    "tags": []
   },
   "outputs": [
    {
     "name": "stdout",
     "output_type": "stream",
     "text": [
      "<class 'pandas.core.frame.DataFrame'>\n",
      "RangeIndex: 8675 entries, 0 to 8674\n",
      "Data columns (total 2 columns):\n",
      " #   Column  Non-Null Count  Dtype \n",
      "---  ------  --------------  ----- \n",
      " 0   type    8675 non-null   object\n",
      " 1   posts   8675 non-null   object\n",
      "dtypes: object(2)\n",
      "memory usage: 135.7+ KB\n"
     ]
    }
   ],
   "source": [
    "data.info()"
   ]
  },
  {
   "cell_type": "markdown",
   "metadata": {
    "papermill": {
     "duration": 0.015537,
     "end_time": "2020-11-28T21:19:59.524881",
     "exception": false,
     "start_time": "2020-11-28T21:19:59.509344",
     "status": "completed"
    },
    "tags": []
   },
   "source": [
    "# Preprocessing"
   ]
  },
  {
   "cell_type": "code",
   "execution_count": 5,
   "metadata": {
    "execution": {
     "iopub.execute_input": "2020-11-28T21:19:59.561945Z",
     "iopub.status.busy": "2020-11-28T21:19:59.560903Z",
     "iopub.status.idle": "2020-11-28T21:19:59.567456Z",
     "shell.execute_reply": "2020-11-28T21:19:59.568009Z"
    },
    "papermill": {
     "duration": 0.027716,
     "end_time": "2020-11-28T21:19:59.568144",
     "exception": false,
     "start_time": "2020-11-28T21:19:59.540428",
     "status": "completed"
    },
    "tags": []
   },
   "outputs": [
    {
     "data": {
      "text/plain": [
       "array(['INFJ', 'ENTP', 'INTP', 'INTJ', 'ENTJ', 'ENFJ', 'INFP', 'ENFP',\n",
       "       'ISFP', 'ISTP', 'ISFJ', 'ISTJ', 'ESTP', 'ESFP', 'ESTJ', 'ESFJ'],\n",
       "      dtype=object)"
      ]
     },
     "execution_count": 5,
     "metadata": {},
     "output_type": "execute_result"
    }
   ],
   "source": [
    "data['type'].unique()"
   ]
  },
  {
   "cell_type": "markdown",
   "metadata": {},
   "source": [
    "## Classes \n",
    "> ['INFJ', 'ENTP', 'INTP', 'INTJ', 'ENTJ', 'ENFJ', 'INFP', 'ENFP','ISFP', 'ISTP', 'ISFJ', 'ISTJ', 'ESTP', 'ESFP', 'ESTJ', 'ESFJ']"
   ]
  },
  {
   "cell_type": "code",
   "execution_count": 6,
   "metadata": {
    "execution": {
     "iopub.execute_input": "2020-11-28T21:19:59.617679Z",
     "iopub.status.busy": "2020-11-28T21:19:59.616667Z",
     "iopub.status.idle": "2020-11-28T21:19:59.620409Z",
     "shell.execute_reply": "2020-11-28T21:19:59.619838Z"
    },
    "papermill": {
     "duration": 0.036299,
     "end_time": "2020-11-28T21:19:59.620526",
     "exception": false,
     "start_time": "2020-11-28T21:19:59.584227",
     "status": "completed"
    },
    "tags": []
   },
   "outputs": [],
   "source": [
    "def preprocess_inputs(df):\n",
    "    \n",
    "    texts = df['posts'].copy()\n",
    "    labels = df['type'].copy()\n",
    "    \n",
    "    # Process text data\n",
    "    stop_words = stopwords.words('english')\n",
    "    \n",
    "    texts = [text.lower() for text in texts]\n",
    "    texts = [text.split() for text in texts]\n",
    "    texts = [[word.strip() for word in text] for text in texts]\n",
    "    texts = [[word for word in text if word not in stop_words] for text in texts]\n",
    "    \n",
    "    vocab_length = 10000\n",
    "    \n",
    "    tokenizer = Tokenizer(num_words=vocab_length)\n",
    "    tokenizer.fit_on_texts(texts)\n",
    "    \n",
    "    texts = tokenizer.texts_to_sequences(texts)\n",
    "    \n",
    "    max_seq_length = np.max([len(text) for text in texts])\n",
    "    \n",
    "    texts = pad_sequences(texts, maxlen=max_seq_length, padding='post')\n",
    "    \n",
    "    # Process label data\n",
    "    label_values = [\n",
    "        'INFJ', 'ENTP', 'INTP', 'INTJ', 'ENTJ', 'ENFJ', 'INFP', 'ENFP',\n",
    "       'ISFP', 'ISTP', 'ISFJ', 'ISTJ', 'ESTP', 'ESFP', 'ESTJ', 'ESFJ'\n",
    "    ]\n",
    "    \n",
    "    label_mapping = {label: np.int(label[0] == 'E') for label in label_values}\n",
    "    \n",
    "    labels = labels.replace(label_mapping)\n",
    "    labels = np.array(labels)\n",
    "    \n",
    "    return texts, labels, max_seq_length, vocab_length, label_mapping"
   ]
  },
  {
   "cell_type": "code",
   "execution_count": 7,
   "metadata": {
    "execution": {
     "iopub.execute_input": "2020-11-28T21:19:59.660398Z",
     "iopub.status.busy": "2020-11-28T21:19:59.659504Z",
     "iopub.status.idle": "2020-11-28T21:20:43.985220Z",
     "shell.execute_reply": "2020-11-28T21:20:43.984629Z"
    },
    "papermill": {
     "duration": 44.348526,
     "end_time": "2020-11-28T21:20:43.985434",
     "exception": false,
     "start_time": "2020-11-28T21:19:59.636908",
     "status": "completed"
    },
    "tags": []
   },
   "outputs": [
    {
     "name": "stderr",
     "output_type": "stream",
     "text": [
      "/tmp/ipykernel_466045/3321350082.py:31: DeprecationWarning: `np.int` is a deprecated alias for the builtin `int`. To silence this warning, use `int` by itself. Doing this will not modify any behavior and is safe. When replacing `np.int`, you may wish to use e.g. `np.int64` or `np.int32` to specify the precision. If you wish to review your current use, check the release note link for additional information.\n",
      "Deprecated in NumPy 1.20; for more details and guidance: https://numpy.org/devdocs/release/1.20.0-notes.html#deprecations\n",
      "  label_mapping = {label: np.int(label[0] == 'E') for label in label_values}\n"
     ]
    }
   ],
   "source": [
    "texts, labels, max_seq_length, vocab_length, label_mapping = preprocess_inputs(data)"
   ]
  },
  {
   "cell_type": "code",
   "execution_count": 19,
   "metadata": {},
   "outputs": [
    {
     "name": "stdout",
     "output_type": "stream",
     "text": [
      "{'INFJ': 0, 'ENTP': 1, 'INTP': 0, 'INTJ': 0, 'ENTJ': 1, 'ENFJ': 1, 'INFP': 0, 'ENFP': 1, 'ISFP': 0, 'ISTP': 0, 'ISFJ': 0, 'ISTJ': 0, 'ESTP': 1, 'ESFP': 1, 'ESTJ': 1, 'ESFJ': 1}\n"
     ]
    }
   ],
   "source": [
    "print(label_mapping)"
   ]
  },
  {
   "cell_type": "code",
   "execution_count": 8,
   "metadata": {
    "execution": {
     "iopub.execute_input": "2020-11-28T21:20:44.030106Z",
     "iopub.status.busy": "2020-11-28T21:20:44.028141Z",
     "iopub.status.idle": "2020-11-28T21:20:44.033026Z",
     "shell.execute_reply": "2020-11-28T21:20:44.030713Z"
    },
    "papermill": {
     "duration": 0.03119,
     "end_time": "2020-11-28T21:20:44.033189",
     "exception": false,
     "start_time": "2020-11-28T21:20:44.001999",
     "status": "completed"
    },
    "tags": []
   },
   "outputs": [
    {
     "name": "stdout",
     "output_type": "stream",
     "text": [
      "Text sequences:\n",
      " (8675, 859)\n",
      "\n",
      "Labels:\n",
      " (8675,)\n",
      "\n",
      "Max sequence length:\n",
      " 859\n",
      "\n",
      "Vocab length:\n",
      " 10000\n",
      "\n",
      "Label mapping:\n",
      " {'INFJ': 0, 'ENTP': 1, 'INTP': 0, 'INTJ': 0, 'ENTJ': 1, 'ENFJ': 1, 'INFP': 0, 'ENFP': 1, 'ISFP': 0, 'ISTP': 0, 'ISFJ': 0, 'ISTJ': 0, 'ESTP': 1, 'ESFP': 1, 'ESTJ': 1, 'ESFJ': 1}\n"
     ]
    }
   ],
   "source": [
    "print(\"Text sequences:\\n\", texts.shape)\n",
    "print(\"\\nLabels:\\n\", labels.shape)\n",
    "print(\"\\nMax sequence length:\\n\", max_seq_length)\n",
    "print(\"\\nVocab length:\\n\", vocab_length)\n",
    "print(\"\\nLabel mapping:\\n\", label_mapping)"
   ]
  },
  {
   "cell_type": "code",
   "execution_count": 9,
   "metadata": {
    "execution": {
     "iopub.execute_input": "2020-11-28T21:20:44.076058Z",
     "iopub.status.busy": "2020-11-28T21:20:44.074730Z",
     "iopub.status.idle": "2020-11-28T21:20:44.086108Z",
     "shell.execute_reply": "2020-11-28T21:20:44.085538Z"
    },
    "papermill": {
     "duration": 0.034941,
     "end_time": "2020-11-28T21:20:44.086229",
     "exception": false,
     "start_time": "2020-11-28T21:20:44.051288",
     "status": "completed"
    },
    "tags": []
   },
   "outputs": [],
   "source": [
    "texts_train, texts_test, labels_train, labels_test = train_test_split(texts, labels, train_size=0.7, random_state=123)"
   ]
  },
  {
   "cell_type": "code",
   "execution_count": 10,
   "metadata": {
    "execution": {
     "iopub.execute_input": "2020-11-28T21:20:44.128188Z",
     "iopub.status.busy": "2020-11-28T21:20:44.127465Z",
     "iopub.status.idle": "2020-11-28T21:20:44.134318Z",
     "shell.execute_reply": "2020-11-28T21:20:44.133670Z"
    },
    "papermill": {
     "duration": 0.031086,
     "end_time": "2020-11-28T21:20:44.134434",
     "exception": false,
     "start_time": "2020-11-28T21:20:44.103348",
     "status": "completed"
    },
    "tags": []
   },
   "outputs": [
    {
     "data": {
      "text/plain": [
       "array([[  91, 1537,  587, ...,    0,    0,    0],\n",
       "       [2394,  583,  429, ...,    0,    0,    0],\n",
       "       [   9, 1085,   18, ...,    0,    0,    0],\n",
       "       ...,\n",
       "       [7055,   46,  415, ...,    0,    0,    0],\n",
       "       [ 518, 9956,   54, ...,    0,    0,    0],\n",
       "       [6735,   82,   80, ...,    0,    0,    0]], dtype=int32)"
      ]
     },
     "execution_count": 10,
     "metadata": {},
     "output_type": "execute_result"
    }
   ],
   "source": [
    "texts"
   ]
  },
  {
   "cell_type": "markdown",
   "metadata": {
    "papermill": {
     "duration": 0.017119,
     "end_time": "2020-11-28T21:20:44.169719",
     "exception": false,
     "start_time": "2020-11-28T21:20:44.152600",
     "status": "completed"
    },
    "tags": []
   },
   "source": [
    "# Training"
   ]
  },
  {
   "cell_type": "code",
   "execution_count": null,
   "metadata": {
    "execution": {
     "iopub.execute_input": "2020-11-28T21:20:44.220200Z",
     "iopub.status.busy": "2020-11-28T21:20:44.219448Z",
     "iopub.status.idle": "2020-11-28T21:23:37.983568Z",
     "shell.execute_reply": "2020-11-28T21:23:37.982866Z"
    },
    "papermill": {
     "duration": 173.796296,
     "end_time": "2020-11-28T21:23:37.983699",
     "exception": false,
     "start_time": "2020-11-28T21:20:44.187403",
     "status": "completed"
    },
    "tags": []
   },
   "outputs": [],
   "source": [
    "embedding_dim = 512\n",
    "\n",
    "inputs = tf.keras.Input(shape=(max_seq_length,))\n",
    "\n",
    "embedding = tf.keras.layers.Embedding(\n",
    "    input_dim=vocab_length,\n",
    "    output_dim=embedding_dim,\n",
    "    input_length=max_seq_length\n",
    ")(inputs)\n",
    "\n",
    "gru = tf.keras.layers.Bidirectional(\n",
    "    tf.keras.layers.GRU(\n",
    "        units=256,\n",
    "        return_sequences=True\n",
    "    )\n",
    ")(embedding)\n",
    "\n",
    "flatten = tf.keras.layers.Flatten()(gru)\n",
    "\n",
    "outputs = tf.keras.layers.Dense(1, activation='sigmoid')(flatten)\n",
    "\n",
    "\n",
    "model = tf.keras.Model(inputs, outputs)\n",
    "\n",
    "\n",
    "model.compile(\n",
    "    optimizer='adam',\n",
    "    loss='binary_crossentropy',\n",
    "    metrics=[\n",
    "        'accuracy',\n",
    "        tf.keras.metrics.AUC(name='auc')\n",
    "    ]\n",
    ")\n",
    "\n",
    "\n",
    "history = model.fit(\n",
    "    texts_train,\n",
    "    labels_train,\n",
    "    validation_split=0.2,\n",
    "    batch_size=32,\n",
    "    epochs=5,\n",
    "    callbacks=[\n",
    "        tf.keras.callbacks.ModelCheckpoint('./model_personality.h5', save_best_only=True, save_weights_only=True)\n",
    "    ]\n",
    ")"
   ]
  },
  {
   "cell_type": "markdown",
   "metadata": {
    "papermill": {
     "duration": 0.318668,
     "end_time": "2020-11-28T21:23:38.627658",
     "exception": false,
     "start_time": "2020-11-28T21:23:38.308990",
     "status": "completed"
    },
    "tags": []
   },
   "source": [
    "# Results"
   ]
  },
  {
   "cell_type": "code",
   "execution_count": 17,
   "metadata": {
    "execution": {
     "iopub.execute_input": "2020-11-28T21:23:39.304120Z",
     "iopub.status.busy": "2020-11-28T21:23:39.302713Z",
     "iopub.status.idle": "2020-11-28T21:23:39.313115Z",
     "shell.execute_reply": "2020-11-28T21:23:39.311974Z"
    },
    "papermill": {
     "duration": 0.362782,
     "end_time": "2020-11-28T21:23:39.313247",
     "exception": false,
     "start_time": "2020-11-28T21:23:38.950465",
     "status": "completed"
    },
    "tags": []
   },
   "outputs": [],
   "source": [
    "model.load_weights('./model_personality.h5')"
   ]
  },
  {
   "cell_type": "code",
   "execution_count": 18,
   "metadata": {
    "execution": {
     "iopub.execute_input": "2020-11-28T21:23:39.968168Z",
     "iopub.status.busy": "2020-11-28T21:23:39.966900Z",
     "iopub.status.idle": "2020-11-28T21:23:45.134883Z",
     "shell.execute_reply": "2020-11-28T21:23:45.135529Z"
    },
    "papermill": {
     "duration": 5.502381,
     "end_time": "2020-11-28T21:23:45.135711",
     "exception": false,
     "start_time": "2020-11-28T21:23:39.633330",
     "status": "completed"
    },
    "tags": []
   },
   "outputs": [
    {
     "name": "stdout",
     "output_type": "stream",
     "text": [
      "82/82 [==============================] - 19s 219ms/step - loss: 0.4263 - accuracy: 0.8202 - auc: 0.8088\n"
     ]
    },
    {
     "data": {
      "text/plain": [
       "[0.4262876808643341, 0.8202074766159058, 0.8088368773460388]"
      ]
     },
     "execution_count": 18,
     "metadata": {},
     "output_type": "execute_result"
    }
   ],
   "source": [
    "model.evaluate(texts_test, labels_test)"
   ]
  },
  {
   "cell_type": "code",
   "execution_count": 62,
   "metadata": {},
   "outputs": [],
   "source": [
    "def predict_personality(text):\n",
    "    import random\n",
    "    test_text = [text]\n",
    "    tokenizer = Tokenizer(num_words=vocab_length)\n",
    "    tokenizer.fit_on_texts(test_text)\n",
    "    test_seq = tokenizer.texts_to_sequences(test_text)\n",
    "    padded_test = pad_sequences(test_seq,maxlen=max_seq_length, padding='post')\n",
    "\n",
    "    ar_test = np.array(padded_test)\n",
    "\n",
    "    preds = model.predict(ar_test)\n",
    "\n",
    "    \n",
    "    THRESHOLD = 0.5\n",
    "    val = -1\n",
    "    if preds.item() < THRESHOLD:\n",
    "        val = 0\n",
    "    else:\n",
    "        val = 1\n",
    "\n",
    "    all_keys = list(label_mapping.keys())\n",
    "    outputs = []\n",
    "    for i in all_keys:\n",
    "        if label_mapping[i] == val:\n",
    "            outputs.append(i)\n",
    "\n",
    "    output_string = str(outputs[random.randint(0,len(outputs)-1)])\n",
    "\n",
    "    final_outs = {\"I\":\"Introversion\",\"N\":\"Intuition\",\"T\":\"Thinking\",\"J\":\"Jugding\",\"E\":\"Extroversion\",\"S\":\"Sensing\",\"F\":\"Feeling\",\"P\":\"Perceiving\"}\n",
    "\n",
    "    results = []\n",
    "    for letter in output_string:\n",
    "        print(final_outs[letter])\n",
    "        results.append(final_outs[letter])\n",
    "    return results,preds.item(),val\n"
   ]
  },
  {
   "cell_type": "markdown",
   "metadata": {},
   "source": [
    "> Just write your text in that function"
   ]
  },
  {
   "cell_type": "code",
   "execution_count": 63,
   "metadata": {},
   "outputs": [
    {
     "name": "stdout",
     "output_type": "stream",
     "text": [
      "1/1 [==============================] - 0s 80ms/step\n",
      "Introversion\n",
      "Sensing\n",
      "Feeling\n",
      "Perceiving\n"
     ]
    },
    {
     "data": {
      "text/plain": [
       "(['Introversion', 'Sensing', 'Feeling', 'Perceiving'], 0.010547921061515808, 0)"
      ]
     },
     "execution_count": 63,
     "metadata": {},
     "output_type": "execute_result"
    }
   ],
   "source": [
    "predict_personality(\"Hello I just want to die\")"
   ]
  },
  {
   "cell_type": "markdown",
   "metadata": {},
   "source": [
    "```\n",
    "Introversion (I) – Extroversion (E)\n",
    "Intuition (N) – Sensing (S)\n",
    "Thinking (T) – Feeling (F)\n",
    "Judging (J) – Perceiving (P)\n",
    "```\n",
    "\n",
    "```\n",
    "{'INFJ': 0, 'ENTP': 1, 'INTP': 0, 'INTJ': 0, 'ENTJ': 1, 'ENFJ': 1, 'INFP': 0, 'ENFP': 1, 'ISFP': 0, 'ISTP': 0, 'ISFJ': 0, 'ISTJ': 0, 'ESTP': 1, 'ESFP': 1, 'ESTJ': 1, 'ESFJ': 1}\n",
    "```"
   ]
  }
 ],
 "metadata": {
  "kernelspec": {
   "display_name": "Python 3.10.5 64-bit",
   "language": "python",
   "name": "python3"
  },
  "language_info": {
   "codemirror_mode": {
    "name": "ipython",
    "version": 3
   },
   "file_extension": ".py",
   "mimetype": "text/x-python",
   "name": "python",
   "nbconvert_exporter": "python",
   "pygments_lexer": "ipython3",
   "version": "3.10.5"
  },
  "papermill": {
   "duration": 241.084434,
   "end_time": "2020-11-28T21:23:48.308018",
   "environment_variables": {},
   "exception": null,
   "input_path": "__notebook__.ipynb",
   "output_path": "__notebook__.ipynb",
   "parameters": {},
   "start_time": "2020-11-28T21:19:47.223584",
   "version": "2.1.0"
  },
  "vscode": {
   "interpreter": {
    "hash": "e7370f93d1d0cde622a1f8e1c04877d8463912d04d973331ad4851f04de6915a"
   }
  }
 },
 "nbformat": 4,
 "nbformat_minor": 4
}
