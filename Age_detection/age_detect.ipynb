{
  "cells": [
    {
      "cell_type": "markdown",
      "metadata": {},
      "source": [
        "#### Importing libraries"
      ]
    },
    {
      "cell_type": "code",
      "execution_count": 2,
      "metadata": {
        "id": "fT4ffR6H8x9z"
      },
      "outputs": [],
      "source": [
        "import torch, gc\n",
        "import os\n",
        "import torchvision\n",
        "import tarfile\n",
        "import torch.nn as nn\n",
        "import numpy as np\n",
        "import torch.nn.functional as F\n",
        "from torchvision.datasets import ImageFolder\n",
        "from torch.utils.data import DataLoader\n",
        "import torchvision.transforms as tt\n",
        "from torch.utils.data import random_split\n",
        "from torchvision.utils import make_grid\n",
        "import matplotlib\n",
        "from torchvision.datasets.utils import download_url\n",
        "import matplotlib.pyplot as plt\n",
        "%matplotlib inline"
      ]
    },
    {
      "cell_type": "markdown",
      "metadata": {},
      "source": [
        "#### Normalizing stats"
      ]
    },
    {
      "cell_type": "code",
      "execution_count": 3,
      "metadata": {
        "id": "KSWhlV178x93"
      },
      "outputs": [],
      "source": [
        "stats = ((0.5, 0.5, 0.5), (0.5, 0.5, 0.5))"
      ]
    },
    {
      "cell_type": "markdown",
      "metadata": {},
      "source": [
        "#### Transormations added to normalize and flip images"
      ]
    },
    {
      "cell_type": "code",
      "execution_count": 4,
      "metadata": {
        "id": "iOK06f5O8x93"
      },
      "outputs": [],
      "source": [
        "train_tfms = tt.Compose([tt.Resize(64),\n",
        "                        tt.RandomHorizontalFlip(),\n",
        "                        tt.RandomVerticalFlip(),\n",
        "                        tt.RandomAutocontrast(p=0.5),\n",
        "                        tt.RandomInvert(),\n",
        "                        \n",
        "                        \n",
        "                        tt.ToTensor(),\n",
        "                        tt.Normalize(*stats,inplace=True)\n",
        "                        ])\n",
        "test_tfms = tt.Compose([tt.ToTensor(),tt.Normalize(*stats)])"
      ]
    },
    {
      "cell_type": "code",
      "execution_count": null,
      "metadata": {},
      "outputs": [],
      "source": []
    },
    {
      "cell_type": "markdown",
      "metadata": {},
      "source": [
        "#### Creating training dataset and test dataset"
      ]
    },
    {
      "cell_type": "code",
      "execution_count": 5,
      "metadata": {
        "id": "iPFCoLDL8x94"
      },
      "outputs": [],
      "source": [
        "train_ds = ImageFolder('data/train',train_tfms)\n"
      ]
    },
    {
      "cell_type": "code",
      "execution_count": 7,
      "metadata": {},
      "outputs": [
        {
          "data": {
            "text/plain": [
              "(5897, 1000)"
            ]
          },
          "execution_count": 7,
          "metadata": {},
          "output_type": "execute_result"
        }
      ],
      "source": [
        "from torch.utils.data import random_split\n",
        "\n",
        "test_size = 1000\n",
        "train_size = len(train_ds)-test_size\n",
        "train_ds,test_ds = random_split(train_ds, [train_size,test_size])\n",
        "len(train_ds),len(test_ds)"
      ]
    },
    {
      "cell_type": "markdown",
      "metadata": {},
      "source": [
        "#### Classes\n",
        "##### 1)Youngster\n",
        "##### 2)Senoir Citizens\n",
        "##### 3) Adult"
      ]
    },
    {
      "cell_type": "code",
      "execution_count": 8,
      "metadata": {},
      "outputs": [
        {
          "data": {
            "text/plain": [
              "['youngster', 'senior citizen', 'adult']"
            ]
          },
          "execution_count": 8,
          "metadata": {},
          "output_type": "execute_result"
        }
      ],
      "source": [
        "classes = os.listdir(\"data/train\")\n",
        "classes"
      ]
    },
    {
      "cell_type": "code",
      "execution_count": 9,
      "metadata": {
        "id": "7EbMp8Ii8x94"
      },
      "outputs": [],
      "source": [
        "batch_size = 16"
      ]
    },
    {
      "cell_type": "markdown",
      "metadata": {},
      "source": [
        "#### Specifying dataloaders"
      ]
    },
    {
      "cell_type": "code",
      "execution_count": 10,
      "metadata": {
        "colab": {
          "base_uri": "https://localhost:8080/"
        },
        "id": "Uksusdew8x94",
        "outputId": "c29d100d-a783-47c7-adf2-4147860fff3f"
      },
      "outputs": [],
      "source": [
        "train_dl = DataLoader(train_ds,batch_size,shuffle=True,num_workers=3,pin_memory=True)\n",
        "test_dl = DataLoader(test_ds,batch_size*2,num_workers=3,pin_memory=True)"
      ]
    },
    {
      "cell_type": "markdown",
      "metadata": {},
      "source": [
        "##### Functions for denormalization and checking data"
      ]
    },
    {
      "cell_type": "code",
      "execution_count": 11,
      "metadata": {
        "id": "XPmpGra88x95"
      },
      "outputs": [],
      "source": [
        "def denormalize(images,means,stds):\n",
        "    means = torch.tensor(means).reshape(1,3,1,1)\n",
        "    stds = torch.tensor(stds).reshape(1,3,1,1)\n",
        "    return images*stds+means\n",
        "\n",
        "def show_batch(dl):\n",
        "    for images,labels in dl:\n",
        "        fig, ax = plt.subplots(figsize=(12,12))\n",
        "        ax.set_xticks([]);ax.set_yticks([])\n",
        "        denorm_images =  denormalize(images, *stats)\n",
        "        ax.imshow(make_grid(denorm_images[:64], nrow=8).permute(1,2,0).clamp(0,1))\n",
        "        break"
      ]
    },
    {
      "cell_type": "code",
      "execution_count": 12,
      "metadata": {
        "colab": {
          "base_uri": "https://localhost:8080/",
          "height": 426
        },
        "id": "5v3ip-6B8x96",
        "outputId": "0a8956a1-4d6b-4a1c-ab92-81304b37e84b"
      },
      "outputs": [
        {
          "data": {
            "image/png": "[encoded data removed]",
            "text/plain": [
              "<Figure size 864x864 with 1 Axes>"
            ]
          },
          "metadata": {},
          "output_type": "display_data"
        }
      ],
      "source": [
        "show_batch(train_dl)"
      ]
    },
    {
      "cell_type": "markdown",
      "metadata": {},
      "source": [
        "#### Using GPU for computation"
      ]
    },
    {
      "cell_type": "code",
      "execution_count": 13,
      "metadata": {
        "id": "BKMh5esg8x97"
      },
      "outputs": [],
      "source": [
        "def get_default_device():\n",
        "    \"\"\"Pick GPU if available, else CPU\"\"\"\n",
        "    if torch.cuda.is_available():\n",
        "        return torch.device('cuda')\n",
        "    else:\n",
        "        return torch.device('cpu')\n",
        "    \n",
        "def to_device(data, device):\n",
        "    \"\"\"Move tensor(s) to chosen device\"\"\"\n",
        "    if isinstance(data, (list,tuple)):\n",
        "        return [to_device(x, device) for x in data]\n",
        "    return data.to(device, non_blocking=True)\n",
        "\n",
        "class DeviceDataLoader():\n",
        "    \"\"\"Wrap a dataloader to move data to a device\"\"\"\n",
        "    def __init__(self, dl, device):\n",
        "        self.dl = dl\n",
        "        self.device = device\n",
        "        \n",
        "    def __iter__(self):\n",
        "        \"\"\"Yield a batch of data after moving it to device\"\"\"\n",
        "        for b in self.dl: \n",
        "            yield to_device(b, self.device)\n",
        "\n",
        "    def __len__(self):\n",
        "        \"\"\"Number of batches\"\"\"\n",
        "        return len(self.dl)"
      ]
    },
    {
      "cell_type": "code",
      "execution_count": 14,
      "metadata": {
        "colab": {
          "base_uri": "https://localhost:8080/"
        },
        "id": "yivZqLTF8x98",
        "outputId": "8ef9a688-f510-43db-d94b-469555be1831"
      },
      "outputs": [
        {
          "data": {
            "text/plain": [
              "device(type='cuda')"
            ]
          },
          "execution_count": 14,
          "metadata": {},
          "output_type": "execute_result"
        }
      ],
      "source": [
        "device = get_default_device()\n",
        "device"
      ]
    },
    {
      "cell_type": "markdown",
      "metadata": {},
      "source": [
        "#### Loading dataloader to GPU"
      ]
    },
    {
      "cell_type": "code",
      "execution_count": 15,
      "metadata": {
        "id": "qASSU9MD8x98"
      },
      "outputs": [],
      "source": [
        "train_dl = DeviceDataLoader(train_dl, device)\n",
        "test_dl = DeviceDataLoader(test_dl, device)"
      ]
    },
    {
      "cell_type": "markdown",
      "metadata": {},
      "source": [
        "#### Functions for evaluation of diffrent parameters like accuracy and loss."
      ]
    },
    {
      "cell_type": "code",
      "execution_count": 16,
      "metadata": {
        "id": "SAO4Fd0cdf0u"
      },
      "outputs": [],
      "source": [
        "def accuracy(outputs, labels):\n",
        "    _, preds = torch.max(outputs, dim=1)\n",
        "    return torch.tensor(torch.sum(preds == labels).item() / len(preds))\n",
        "\n",
        "class ImageClassificationBase(nn.Module):\n",
        "    def training_step(self, batch):\n",
        "        images, labels = batch \n",
        "        out = self(images)                  # Generate predictions\n",
        "        loss = F.cross_entropy(out, labels) # Calculate loss\n",
        "        return loss\n",
        "    \n",
        "    def validation_step(self, batch):\n",
        "        images, labels = batch \n",
        "        out = self(images)                    # Generate predictions\n",
        "        loss = F.cross_entropy(out, labels)   # Calculate loss\n",
        "        acc = accuracy(out, labels)           # Calculate accuracy\n",
        "        return {'val_loss': loss.detach(), 'val_acc': acc}\n",
        "        \n",
        "    def validation_epoch_end(self, outputs):\n",
        "        batch_losses = [x['val_loss'] for x in outputs]\n",
        "        epoch_loss = torch.stack(batch_losses).mean()   # Combine losses\n",
        "        batch_accs = [x['val_acc'] for x in outputs]\n",
        "        epoch_acc = torch.stack(batch_accs).mean()      # Combine accuracies\n",
        "        # saving model above 85% accuracy\n",
        "        if epoch_acc.item() > 0.70:\n",
        "            torch.save(model.state_dict(), 'weights/face_detect_{}.pth'.format(epoch_acc.item()))\n",
        "        return {'val_loss': epoch_loss.item(), 'val_acc': epoch_acc.item()}\n",
        "    \n",
        "    def epoch_end(self, epoch, result):\n",
        "        print(\"Epoch [{}], last_lr: {:.5f}, train_loss: {:.4f}, val_loss: {:.4f}, val_acc: {:.4f}\".format(\n",
        "            epoch, result['lrs'][-1], result['train_loss'], result['val_loss'], result['val_acc']))"
      ]
    },
    {
      "cell_type": "markdown",
      "metadata": {},
      "source": [
        "## Model RESNET"
      ]
    },
    {
      "cell_type": "code",
      "execution_count": 17,
      "metadata": {
        "id": "YJKdO6AIdjYM"
      },
      "outputs": [],
      "source": [
        "class ResNet9(ImageClassificationBase):\n",
        "    def __init__(self, in_channels, num_classes):\n",
        "        super().__init__()\n",
        "        self.norm15 = nn.BatchNorm2d(15)\n",
        "        self.norm30 = nn.BatchNorm2d(30)\n",
        "        self.norm60 = nn.BatchNorm2d(60)\n",
        "        self.norm120 = nn.BatchNorm2d(120)\n",
        "        self.norm200 = nn.BatchNorm2d(200)\n",
        "        self.norm300 = nn.BatchNorm2d(300)\n",
        "        self.norm360 = nn.BatchNorm2d(360)\n",
        "        self.norm512 = nn.BatchNorm2d(512)\n",
        "        #--------------------\n",
        "        self.conv15 = nn.Conv2d(3,15,kernel_size=3,stride=1,padding=1)#15x64x64\n",
        "        self.conv30 = nn.Conv2d(15,30,kernel_size=3,stride=1,padding=1)#30x64x64\n",
        "        self.conv60 = nn.Conv2d(30,60,kernel_size=3,stride=2,padding=1)#60x32x32\n",
        "\n",
        "        self.res60 = nn.Conv2d(60,60,kernel_size=3,stride=1,padding=1)\n",
        "        #---------------\n",
        "        self.conv120a = nn.Conv2d(60,60,kernel_size=3,stride=1,padding=1)\n",
        "        #------------\n",
        "        self.conv200 = nn.Conv2d(60,200,kernel_size=3,stride=1,padding=1)#200x32x32\n",
        "        self.conv200a = nn.Conv2d(200,200,kernel_size=3,stride=2,padding=1)#200x16x16\n",
        "        \n",
        "\n",
        "        self.res200 = nn.Conv2d(200,200,kernel_size=3,stride=1,padding=1)\n",
        "        #------------------\n",
        "        self.conv300 = nn.Conv2d(200,200,kernel_size=3,stride=1,padding=1)\n",
        "        self.conv360 = nn.Conv2d(200,360,kernel_size=3,stride=1,padding=1)#360x16x16\n",
        "        self.conv512 = nn.Conv2d(360,512,kernel_size=3,stride=1,padding=1)#512x16x16\n",
        "\n",
        "        \n",
        "\n",
        "        #===========================#\n",
        "        self.pool = nn.MaxPool2d(2,2)\n",
        "        self.avgpool = nn.AvgPool2d(2,2)\n",
        "        self.flat = nn.Flatten()\n",
        "\n",
        "        self.linear = nn.Linear(512*2*2,3)\n",
        "\n",
        "    def forward(self,xb):\n",
        "      out = torch.relu(self.norm15(self.conv15(xb)))#15x64x64\n",
        "\n",
        "      out = torch.relu(self.norm30(self.conv30(out)))#30x64x64\n",
        "\n",
        "      out = torch.relu(self.norm60(self.conv60(out)))#60x32x32\n",
        "\n",
        "      x = self.res60(out)#120x32x32\n",
        "\n",
        "      out = torch.relu(self.conv120a(out)+x)\n",
        "\n",
        "      out = torch.relu(self.norm200(self.conv200(out)))\n",
        "\n",
        "      out = torch.relu(self.conv200a(out))\n",
        "\n",
        "      \n",
        "\n",
        "      x = self.res200(out)\n",
        "\n",
        "      out = torch.relu(self.conv300(out)+x)\n",
        "\n",
        "      out = torch.relu(self.norm360(self.conv360(out)))\n",
        "\n",
        "      out = torch.relu(self.norm512(self.conv512(out)))\n",
        "\n",
        "      out = self.avgpool(out)#512x8x8\n",
        "      out = self.avgpool(out)#512 4 4\n",
        "      out = self.avgpool(out)#512 2 2\n",
        "    #   print(\"Before Flat\",out.shape)\n",
        "      out = self.flat(out)\n",
        "    #   print(\"after flat\",out.shape)\n",
        "      out = self.linear(out)\n",
        "    #   print(\"After Linear\",out.shape)\n",
        "      return out\n",
        "\n",
        "\n"
      ]
    },
    {
      "cell_type": "markdown",
      "metadata": {},
      "source": [
        "#### Clearing GPU cache"
      ]
    },
    {
      "cell_type": "code",
      "execution_count": 18,
      "metadata": {
        "id": "GM0Hfo5YTyDI"
      },
      "outputs": [],
      "source": [
        "gc.collect()\n",
        "torch.cuda.empty_cache()"
      ]
    },
    {
      "cell_type": "markdown",
      "metadata": {},
      "source": [
        "#### Uploading model to GPU"
      ]
    },
    {
      "cell_type": "code",
      "execution_count": 19,
      "metadata": {
        "colab": {
          "base_uri": "https://localhost:8080/"
        },
        "id": "Dos1_Dcx8x99",
        "outputId": "e3565b42-f28a-47ea-a54b-ab720e44d455"
      },
      "outputs": [
        {
          "data": {
            "text/plain": [
              "ResNet9(\n",
              "  (norm15): BatchNorm2d(15, eps=1e-05, momentum=0.1, affine=True, track_running_stats=True)\n",
              "  (norm30): BatchNorm2d(30, eps=1e-05, momentum=0.1, affine=True, track_running_stats=True)\n",
              "  (norm60): BatchNorm2d(60, eps=1e-05, momentum=0.1, affine=True, track_running_stats=True)\n",
              "  (norm120): BatchNorm2d(120, eps=1e-05, momentum=0.1, affine=True, track_running_stats=True)\n",
              "  (norm200): BatchNorm2d(200, eps=1e-05, momentum=0.1, affine=True, track_running_stats=True)\n",
              "  (norm300): BatchNorm2d(300, eps=1e-05, momentum=0.1, affine=True, track_running_stats=True)\n",
              "  (norm360): BatchNorm2d(360, eps=1e-05, momentum=0.1, affine=True, track_running_stats=True)\n",
              "  (norm512): BatchNorm2d(512, eps=1e-05, momentum=0.1, affine=True, track_running_stats=True)\n",
              "  (conv15): Conv2d(3, 15, kernel_size=(3, 3), stride=(1, 1), padding=(1, 1))\n",
              "  (conv30): Conv2d(15, 30, kernel_size=(3, 3), stride=(1, 1), padding=(1, 1))\n",
              "  (conv60): Conv2d(30, 60, kernel_size=(3, 3), stride=(2, 2), padding=(1, 1))\n",
              "  (res60): Conv2d(60, 60, kernel_size=(3, 3), stride=(1, 1), padding=(1, 1))\n",
              "  (conv120a): Conv2d(60, 60, kernel_size=(3, 3), stride=(1, 1), padding=(1, 1))\n",
              "  (conv200): Conv2d(60, 200, kernel_size=(3, 3), stride=(1, 1), padding=(1, 1))\n",
              "  (conv200a): Conv2d(200, 200, kernel_size=(3, 3), stride=(2, 2), padding=(1, 1))\n",
              "  (res200): Conv2d(200, 200, kernel_size=(3, 3), stride=(1, 1), padding=(1, 1))\n",
              "  (conv300): Conv2d(200, 200, kernel_size=(3, 3), stride=(1, 1), padding=(1, 1))\n",
              "  (conv360): Conv2d(200, 360, kernel_size=(3, 3), stride=(1, 1), padding=(1, 1))\n",
              "  (conv512): Conv2d(360, 512, kernel_size=(3, 3), stride=(1, 1), padding=(1, 1))\n",
              "  (pool): MaxPool2d(kernel_size=2, stride=2, padding=0, dilation=1, ceil_mode=False)\n",
              "  (avgpool): AvgPool2d(kernel_size=2, stride=2, padding=0)\n",
              "  (flat): Flatten(start_dim=1, end_dim=-1)\n",
              "  (linear): Linear(in_features=2048, out_features=3, bias=True)\n",
              ")"
            ]
          },
          "execution_count": 19,
          "metadata": {},
          "output_type": "execute_result"
        }
      ],
      "source": [
        "model = to_device(ResNet9(3,2),device)\n",
        "model"
      ]
    },
    {
      "cell_type": "markdown",
      "metadata": {},
      "source": [
        "### Training Function"
      ]
    },
    {
      "cell_type": "code",
      "execution_count": 20,
      "metadata": {},
      "outputs": [
        {
          "name": "stdout",
          "output_type": "stream",
          "text": [
            "torch.Size([16, 3, 64, 64])\n",
            "torch.Size([16, 3])\n"
          ]
        }
      ],
      "source": [
        "\n",
        "for images,labels in train_dl:\n",
        "    print(images.shape)\n",
        "    out = model(images)\n",
        "    print(out.shape)\n",
        "    break"
      ]
    },
    {
      "cell_type": "code",
      "execution_count": 21,
      "metadata": {},
      "outputs": [],
      "source": [
        "from tqdm import tqdm"
      ]
    },
    {
      "cell_type": "code",
      "execution_count": 22,
      "metadata": {
        "id": "hYSfr0e6JFkB"
      },
      "outputs": [],
      "source": [
        "@torch.no_grad()\n",
        "def evaluate(model, val_loader):\n",
        "    model.eval()\n",
        "    outputs = [model.validation_step(batch) for batch in val_loader]\n",
        "    return model.validation_epoch_end(outputs)\n",
        "\n",
        "def get_lr(optimizer):\n",
        "    for param_group in optimizer.param_groups:\n",
        "        return param_group['lr']\n",
        "\n",
        "def fit_one_cycle(epochs, max_lr, model, train_loader, val_loader, \n",
        "                  weight_decay=0, grad_clip=None, opt_func=torch.optim.SGD):\n",
        "    torch.cuda.empty_cache()\n",
        "    history = []\n",
        "    \n",
        "    # Set up cutom optimizer with weight decay\n",
        "    optimizer = opt_func(model.parameters(), max_lr, weight_decay=weight_decay)\n",
        "    # Set up one-cycle learning rate scheduler\n",
        "    sched = torch.optim.lr_scheduler.OneCycleLR(optimizer, max_lr, epochs=epochs, \n",
        "                                                steps_per_epoch=len(train_loader))\n",
        "    \n",
        "    for epoch in range(epochs):\n",
        "        # Training Phase \n",
        "        model.train()\n",
        "        train_losses = []\n",
        "        lrs = []\n",
        "        for batch in tqdm(train_loader):\n",
        "            loss = model.training_step(batch)\n",
        "            train_losses.append(loss)\n",
        "            loss.backward()\n",
        "            \n",
        "            # Gradient clipping\n",
        "            if grad_clip: \n",
        "                nn.utils.clip_grad_value_(model.parameters(), grad_clip)\n",
        "            \n",
        "            optimizer.step()\n",
        "            optimizer.zero_grad()\n",
        "            \n",
        "            # Record & update learning rate\n",
        "            lrs.append(get_lr(optimizer))\n",
        "            sched.step()\n",
        "        \n",
        "        # Validation phase\n",
        "        result = evaluate(model, val_loader)\n",
        "        result['train_loss'] = torch.stack(train_losses).mean().item()\n",
        "        result['lrs'] = lrs\n",
        "        model.epoch_end(epoch, result)\n",
        "        history.append(result)\n",
        "    return history"
      ]
    },
    {
      "cell_type": "markdown",
      "metadata": {},
      "source": [
        "### Training parameters"
      ]
    },
    {
      "cell_type": "code",
      "execution_count": 26,
      "metadata": {
        "id": "BJ8-SyWvIK-B"
      },
      "outputs": [],
      "source": [
        "epochs = 50\n",
        "max_lr = 0.0001\n",
        "grad_clip = 0.1\n",
        "weight_decay = 1e-5\n",
        "opt_func = torch.optim.Adam"
      ]
    },
    {
      "cell_type": "markdown",
      "metadata": {},
      "source": [
        "### Training phase"
      ]
    },
    {
      "cell_type": "code",
      "execution_count": 28,
      "metadata": {
        "colab": {
          "base_uri": "https://localhost:8080/"
        },
        "id": "-Orq_h2XUmbA",
        "outputId": "fe10da1b-49c0-4fe0-9bc4-6ba90ff07fc8"
      },
      "outputs": [
        {
          "name": "stderr",
          "output_type": "stream",
          "text": [
            "100%|██████████| 369/369 [00:18<00:00, 20.15it/s]\n"
          ]
        },
        {
          "name": "stdout",
          "output_type": "stream",
          "text": [
            "Epoch [0], last_lr: 0.00001, train_loss: 0.0782, val_loss: 0.4027, val_acc: 0.8496\n"
          ]
        },
        {
          "name": "stderr",
          "output_type": "stream",
          "text": [
            "100%|██████████| 369/369 [00:18<00:00, 20.02it/s]\n"
          ]
        },
        {
          "name": "stdout",
          "output_type": "stream",
          "text": [
            "Epoch [1], last_lr: 0.00001, train_loss: 0.0745, val_loss: 0.4035, val_acc: 0.8438\n"
          ]
        },
        {
          "name": "stderr",
          "output_type": "stream",
          "text": [
            "100%|██████████| 369/369 [00:18<00:00, 20.04it/s]\n"
          ]
        },
        {
          "name": "stdout",
          "output_type": "stream",
          "text": [
            "Epoch [2], last_lr: 0.00001, train_loss: 0.0734, val_loss: 0.4086, val_acc: 0.8496\n"
          ]
        },
        {
          "name": "stderr",
          "output_type": "stream",
          "text": [
            "100%|██████████| 369/369 [00:18<00:00, 19.88it/s]\n"
          ]
        },
        {
          "name": "stdout",
          "output_type": "stream",
          "text": [
            "Epoch [3], last_lr: 0.00002, train_loss: 0.0801, val_loss: 0.4351, val_acc: 0.8584\n"
          ]
        },
        {
          "name": "stderr",
          "output_type": "stream",
          "text": [
            "100%|██████████| 369/369 [00:18<00:00, 19.65it/s]\n"
          ]
        },
        {
          "name": "stdout",
          "output_type": "stream",
          "text": [
            "Epoch [4], last_lr: 0.00003, train_loss: 0.0786, val_loss: 0.4640, val_acc: 0.8418\n"
          ]
        },
        {
          "name": "stderr",
          "output_type": "stream",
          "text": [
            "100%|██████████| 369/369 [00:18<00:00, 19.70it/s]\n"
          ]
        },
        {
          "name": "stdout",
          "output_type": "stream",
          "text": [
            "Epoch [5], last_lr: 0.00004, train_loss: 0.0818, val_loss: 0.4448, val_acc: 0.8496\n"
          ]
        },
        {
          "name": "stderr",
          "output_type": "stream",
          "text": [
            "100%|██████████| 369/369 [00:18<00:00, 19.69it/s]\n"
          ]
        },
        {
          "name": "stdout",
          "output_type": "stream",
          "text": [
            "Epoch [6], last_lr: 0.00005, train_loss: 0.1016, val_loss: 0.5485, val_acc: 0.8193\n"
          ]
        },
        {
          "name": "stderr",
          "output_type": "stream",
          "text": [
            "100%|██████████| 369/369 [00:18<00:00, 19.68it/s]\n"
          ]
        },
        {
          "name": "stdout",
          "output_type": "stream",
          "text": [
            "Epoch [7], last_lr: 0.00006, train_loss: 0.1245, val_loss: 0.5017, val_acc: 0.8447\n"
          ]
        },
        {
          "name": "stderr",
          "output_type": "stream",
          "text": [
            "100%|██████████| 369/369 [00:18<00:00, 19.63it/s]\n"
          ]
        },
        {
          "name": "stdout",
          "output_type": "stream",
          "text": [
            "Epoch [8], last_lr: 0.00007, train_loss: 0.1478, val_loss: 0.6532, val_acc: 0.7744\n"
          ]
        },
        {
          "name": "stderr",
          "output_type": "stream",
          "text": [
            "100%|██████████| 369/369 [00:18<00:00, 19.71it/s]\n"
          ]
        },
        {
          "name": "stdout",
          "output_type": "stream",
          "text": [
            "Epoch [9], last_lr: 0.00008, train_loss: 0.1545, val_loss: 0.6344, val_acc: 0.7930\n"
          ]
        },
        {
          "name": "stderr",
          "output_type": "stream",
          "text": [
            "100%|██████████| 369/369 [00:18<00:00, 19.87it/s]\n"
          ]
        },
        {
          "name": "stdout",
          "output_type": "stream",
          "text": [
            "Epoch [10], last_lr: 0.00008, train_loss: 0.1743, val_loss: 0.5359, val_acc: 0.8086\n"
          ]
        },
        {
          "name": "stderr",
          "output_type": "stream",
          "text": [
            "100%|██████████| 369/369 [00:18<00:00, 19.83it/s]\n"
          ]
        },
        {
          "name": "stdout",
          "output_type": "stream",
          "text": [
            "Epoch [11], last_lr: 0.00009, train_loss: 0.1815, val_loss: 0.5148, val_acc: 0.8164\n"
          ]
        },
        {
          "name": "stderr",
          "output_type": "stream",
          "text": [
            "100%|██████████| 369/369 [00:18<00:00, 19.87it/s]\n"
          ]
        },
        {
          "name": "stdout",
          "output_type": "stream",
          "text": [
            "Epoch [12], last_lr: 0.00010, train_loss: 0.1906, val_loss: 0.6037, val_acc: 0.7812\n"
          ]
        },
        {
          "name": "stderr",
          "output_type": "stream",
          "text": [
            "100%|██████████| 369/369 [00:18<00:00, 19.66it/s]\n"
          ]
        },
        {
          "name": "stdout",
          "output_type": "stream",
          "text": [
            "Epoch [13], last_lr: 0.00010, train_loss: 0.2071, val_loss: 0.5091, val_acc: 0.8203\n"
          ]
        },
        {
          "name": "stderr",
          "output_type": "stream",
          "text": [
            "100%|██████████| 369/369 [00:18<00:00, 19.86it/s]\n"
          ]
        },
        {
          "name": "stdout",
          "output_type": "stream",
          "text": [
            "Epoch [14], last_lr: 0.00010, train_loss: 0.1983, val_loss: 0.5284, val_acc: 0.8047\n"
          ]
        },
        {
          "name": "stderr",
          "output_type": "stream",
          "text": [
            "100%|██████████| 369/369 [00:18<00:00, 19.80it/s]\n"
          ]
        },
        {
          "name": "stdout",
          "output_type": "stream",
          "text": [
            "Epoch [15], last_lr: 0.00010, train_loss: 0.1847, val_loss: 0.5241, val_acc: 0.8057\n"
          ]
        },
        {
          "name": "stderr",
          "output_type": "stream",
          "text": [
            "100%|██████████| 369/369 [00:18<00:00, 19.89it/s]\n"
          ]
        },
        {
          "name": "stdout",
          "output_type": "stream",
          "text": [
            "Epoch [16], last_lr: 0.00010, train_loss: 0.1758, val_loss: 0.4936, val_acc: 0.8281\n"
          ]
        },
        {
          "name": "stderr",
          "output_type": "stream",
          "text": [
            "100%|██████████| 369/369 [00:18<00:00, 19.86it/s]\n"
          ]
        },
        {
          "name": "stdout",
          "output_type": "stream",
          "text": [
            "Epoch [17], last_lr: 0.00010, train_loss: 0.1842, val_loss: 0.4561, val_acc: 0.8379\n"
          ]
        },
        {
          "name": "stderr",
          "output_type": "stream",
          "text": [
            "100%|██████████| 369/369 [00:18<00:00, 19.87it/s]\n"
          ]
        },
        {
          "name": "stdout",
          "output_type": "stream",
          "text": [
            "Epoch [18], last_lr: 0.00010, train_loss: 0.1776, val_loss: 0.5365, val_acc: 0.8125\n"
          ]
        },
        {
          "name": "stderr",
          "output_type": "stream",
          "text": [
            "100%|██████████| 369/369 [00:18<00:00, 19.85it/s]\n"
          ]
        },
        {
          "name": "stdout",
          "output_type": "stream",
          "text": [
            "Epoch [19], last_lr: 0.00010, train_loss: 0.1643, val_loss: 0.5214, val_acc: 0.8174\n"
          ]
        },
        {
          "name": "stderr",
          "output_type": "stream",
          "text": [
            "100%|██████████| 369/369 [00:18<00:00, 19.87it/s]\n"
          ]
        },
        {
          "name": "stdout",
          "output_type": "stream",
          "text": [
            "Epoch [20], last_lr: 0.00009, train_loss: 0.1660, val_loss: 0.5553, val_acc: 0.8105\n"
          ]
        },
        {
          "name": "stderr",
          "output_type": "stream",
          "text": [
            "100%|██████████| 369/369 [00:18<00:00, 19.89it/s]\n"
          ]
        },
        {
          "name": "stdout",
          "output_type": "stream",
          "text": [
            "Epoch [21], last_lr: 0.00009, train_loss: 0.1417, val_loss: 0.5073, val_acc: 0.8096\n"
          ]
        },
        {
          "name": "stderr",
          "output_type": "stream",
          "text": [
            "100%|██████████| 369/369 [00:18<00:00, 19.85it/s]\n"
          ]
        },
        {
          "name": "stdout",
          "output_type": "stream",
          "text": [
            "Epoch [22], last_lr: 0.00009, train_loss: 0.1556, val_loss: 0.4983, val_acc: 0.8340\n"
          ]
        },
        {
          "name": "stderr",
          "output_type": "stream",
          "text": [
            "100%|██████████| 369/369 [00:18<00:00, 19.85it/s]\n"
          ]
        },
        {
          "name": "stdout",
          "output_type": "stream",
          "text": [
            "Epoch [23], last_lr: 0.00008, train_loss: 0.1304, val_loss: 0.5054, val_acc: 0.8271\n"
          ]
        },
        {
          "name": "stderr",
          "output_type": "stream",
          "text": [
            "100%|██████████| 369/369 [00:18<00:00, 19.89it/s]\n"
          ]
        },
        {
          "name": "stdout",
          "output_type": "stream",
          "text": [
            "Epoch [24], last_lr: 0.00008, train_loss: 0.1315, val_loss: 0.4739, val_acc: 0.8418\n"
          ]
        },
        {
          "name": "stderr",
          "output_type": "stream",
          "text": [
            "100%|██████████| 369/369 [00:18<00:00, 19.84it/s]\n"
          ]
        },
        {
          "name": "stdout",
          "output_type": "stream",
          "text": [
            "Epoch [25], last_lr: 0.00008, train_loss: 0.1325, val_loss: 0.4478, val_acc: 0.8428\n"
          ]
        },
        {
          "name": "stderr",
          "output_type": "stream",
          "text": [
            "100%|██████████| 369/369 [00:18<00:00, 19.89it/s]\n"
          ]
        },
        {
          "name": "stdout",
          "output_type": "stream",
          "text": [
            "Epoch [26], last_lr: 0.00007, train_loss: 0.1119, val_loss: 0.4888, val_acc: 0.8408\n"
          ]
        },
        {
          "name": "stderr",
          "output_type": "stream",
          "text": [
            "100%|██████████| 369/369 [00:18<00:00, 19.86it/s]\n"
          ]
        },
        {
          "name": "stdout",
          "output_type": "stream",
          "text": [
            "Epoch [27], last_lr: 0.00007, train_loss: 0.0971, val_loss: 0.5685, val_acc: 0.8184\n"
          ]
        },
        {
          "name": "stderr",
          "output_type": "stream",
          "text": [
            "100%|██████████| 369/369 [00:18<00:00, 19.92it/s]\n"
          ]
        },
        {
          "name": "stdout",
          "output_type": "stream",
          "text": [
            "Epoch [28], last_lr: 0.00007, train_loss: 0.1031, val_loss: 0.5750, val_acc: 0.8184\n"
          ]
        },
        {
          "name": "stderr",
          "output_type": "stream",
          "text": [
            "100%|██████████| 369/369 [00:18<00:00, 19.82it/s]\n"
          ]
        },
        {
          "name": "stdout",
          "output_type": "stream",
          "text": [
            "Epoch [29], last_lr: 0.00006, train_loss: 0.0865, val_loss: 0.5179, val_acc: 0.8330\n"
          ]
        },
        {
          "name": "stderr",
          "output_type": "stream",
          "text": [
            "100%|██████████| 369/369 [00:18<00:00, 19.90it/s]\n"
          ]
        },
        {
          "name": "stdout",
          "output_type": "stream",
          "text": [
            "Epoch [30], last_lr: 0.00006, train_loss: 0.0776, val_loss: 0.4342, val_acc: 0.8506\n"
          ]
        },
        {
          "name": "stderr",
          "output_type": "stream",
          "text": [
            "100%|██████████| 369/369 [00:18<00:00, 19.81it/s]\n"
          ]
        },
        {
          "name": "stdout",
          "output_type": "stream",
          "text": [
            "Epoch [31], last_lr: 0.00005, train_loss: 0.0723, val_loss: 0.4825, val_acc: 0.8525\n"
          ]
        },
        {
          "name": "stderr",
          "output_type": "stream",
          "text": [
            "100%|██████████| 369/369 [00:18<00:00, 19.84it/s]\n"
          ]
        },
        {
          "name": "stdout",
          "output_type": "stream",
          "text": [
            "Epoch [32], last_lr: 0.00005, train_loss: 0.0693, val_loss: 0.5196, val_acc: 0.8359\n"
          ]
        },
        {
          "name": "stderr",
          "output_type": "stream",
          "text": [
            "100%|██████████| 369/369 [00:18<00:00, 19.90it/s]\n"
          ]
        },
        {
          "name": "stdout",
          "output_type": "stream",
          "text": [
            "Epoch [33], last_lr: 0.00004, train_loss: 0.0616, val_loss: 0.4694, val_acc: 0.8486\n"
          ]
        },
        {
          "name": "stderr",
          "output_type": "stream",
          "text": [
            "100%|██████████| 369/369 [00:18<00:00, 19.70it/s]\n"
          ]
        },
        {
          "name": "stdout",
          "output_type": "stream",
          "text": [
            "Epoch [34], last_lr: 0.00004, train_loss: 0.0543, val_loss: 0.5291, val_acc: 0.8467\n"
          ]
        },
        {
          "name": "stderr",
          "output_type": "stream",
          "text": [
            "100%|██████████| 369/369 [00:18<00:00, 19.77it/s]\n"
          ]
        },
        {
          "name": "stdout",
          "output_type": "stream",
          "text": [
            "Epoch [35], last_lr: 0.00003, train_loss: 0.0446, val_loss: 0.4823, val_acc: 0.8623\n"
          ]
        },
        {
          "name": "stderr",
          "output_type": "stream",
          "text": [
            "100%|██████████| 369/369 [00:18<00:00, 19.86it/s]\n"
          ]
        },
        {
          "name": "stdout",
          "output_type": "stream",
          "text": [
            "Epoch [36], last_lr: 0.00003, train_loss: 0.0413, val_loss: 0.5181, val_acc: 0.8545\n"
          ]
        },
        {
          "name": "stderr",
          "output_type": "stream",
          "text": [
            "100%|██████████| 369/369 [00:18<00:00, 19.89it/s]\n"
          ]
        },
        {
          "name": "stdout",
          "output_type": "stream",
          "text": [
            "Epoch [37], last_lr: 0.00003, train_loss: 0.0380, val_loss: 0.4710, val_acc: 0.8486\n"
          ]
        },
        {
          "name": "stderr",
          "output_type": "stream",
          "text": [
            "100%|██████████| 369/369 [00:18<00:00, 19.89it/s]\n"
          ]
        },
        {
          "name": "stdout",
          "output_type": "stream",
          "text": [
            "Epoch [38], last_lr: 0.00002, train_loss: 0.0357, val_loss: 0.4997, val_acc: 0.8486\n"
          ]
        },
        {
          "name": "stderr",
          "output_type": "stream",
          "text": [
            "100%|██████████| 369/369 [00:18<00:00, 19.85it/s]\n"
          ]
        },
        {
          "name": "stdout",
          "output_type": "stream",
          "text": [
            "Epoch [39], last_lr: 0.00002, train_loss: 0.0285, val_loss: 0.5308, val_acc: 0.8525\n"
          ]
        },
        {
          "name": "stderr",
          "output_type": "stream",
          "text": [
            "100%|██████████| 369/369 [00:18<00:00, 19.82it/s]\n"
          ]
        },
        {
          "name": "stdout",
          "output_type": "stream",
          "text": [
            "Epoch [40], last_lr: 0.00002, train_loss: 0.0269, val_loss: 0.4607, val_acc: 0.8574\n"
          ]
        },
        {
          "name": "stderr",
          "output_type": "stream",
          "text": [
            "100%|██████████| 369/369 [00:18<00:00, 19.92it/s]\n"
          ]
        },
        {
          "name": "stdout",
          "output_type": "stream",
          "text": [
            "Epoch [41], last_lr: 0.00001, train_loss: 0.0240, val_loss: 0.5450, val_acc: 0.8457\n"
          ]
        },
        {
          "name": "stderr",
          "output_type": "stream",
          "text": [
            "100%|██████████| 369/369 [00:18<00:00, 19.73it/s]\n"
          ]
        },
        {
          "name": "stdout",
          "output_type": "stream",
          "text": [
            "Epoch [42], last_lr: 0.00001, train_loss: 0.0167, val_loss: 0.4374, val_acc: 0.8691\n"
          ]
        },
        {
          "name": "stderr",
          "output_type": "stream",
          "text": [
            "100%|██████████| 369/369 [00:18<00:00, 19.79it/s]\n"
          ]
        },
        {
          "name": "stdout",
          "output_type": "stream",
          "text": [
            "Epoch [43], last_lr: 0.00001, train_loss: 0.0142, val_loss: 0.5250, val_acc: 0.8516\n"
          ]
        },
        {
          "name": "stderr",
          "output_type": "stream",
          "text": [
            "100%|██████████| 369/369 [00:18<00:00, 19.85it/s]\n"
          ]
        },
        {
          "name": "stdout",
          "output_type": "stream",
          "text": [
            "Epoch [44], last_lr: 0.00000, train_loss: 0.0159, val_loss: 0.4858, val_acc: 0.8584\n"
          ]
        },
        {
          "name": "stderr",
          "output_type": "stream",
          "text": [
            "100%|██████████| 369/369 [00:18<00:00, 19.88it/s]\n"
          ]
        },
        {
          "name": "stdout",
          "output_type": "stream",
          "text": [
            "Epoch [45], last_lr: 0.00000, train_loss: 0.0166, val_loss: 0.5194, val_acc: 0.8555\n"
          ]
        },
        {
          "name": "stderr",
          "output_type": "stream",
          "text": [
            "100%|██████████| 369/369 [00:18<00:00, 19.83it/s]\n"
          ]
        },
        {
          "name": "stdout",
          "output_type": "stream",
          "text": [
            "Epoch [46], last_lr: 0.00000, train_loss: 0.0168, val_loss: 0.5395, val_acc: 0.8516\n"
          ]
        },
        {
          "name": "stderr",
          "output_type": "stream",
          "text": [
            "100%|██████████| 369/369 [00:18<00:00, 19.83it/s]\n"
          ]
        },
        {
          "name": "stdout",
          "output_type": "stream",
          "text": [
            "Epoch [47], last_lr: 0.00000, train_loss: 0.0162, val_loss: 0.4643, val_acc: 0.8643\n"
          ]
        },
        {
          "name": "stderr",
          "output_type": "stream",
          "text": [
            "100%|██████████| 369/369 [00:18<00:00, 19.80it/s]\n"
          ]
        },
        {
          "name": "stdout",
          "output_type": "stream",
          "text": [
            "Epoch [48], last_lr: 0.00000, train_loss: 0.0129, val_loss: 0.4798, val_acc: 0.8672\n"
          ]
        },
        {
          "name": "stderr",
          "output_type": "stream",
          "text": [
            "100%|██████████| 369/369 [00:18<00:00, 19.86it/s]\n"
          ]
        },
        {
          "name": "stdout",
          "output_type": "stream",
          "text": [
            "Epoch [49], last_lr: 0.00000, train_loss: 0.0130, val_loss: 0.5024, val_acc: 0.8564\n"
          ]
        }
      ],
      "source": [
        "ret_data = fit_one_cycle(epochs,max_lr,model,train_dl,test_dl,weight_decay,grad_clip,opt_func)"
      ]
    },
    {
      "cell_type": "code",
      "execution_count": null,
      "metadata": {},
      "outputs": [],
      "source": [
        "torch.save(model.state_dict(),\"age_65.pth\")"
      ]
    },
    {
      "cell_type": "markdown",
      "metadata": {},
      "source": [
        "# Evaluate your own validation dataset."
      ]
    },
    {
      "cell_type": "code",
      "execution_count": null,
      "metadata": {},
      "outputs": [],
      "source": [
        "# def validate_results(path_to_validation_data):\n",
        "#     val_ds = ImageFolder(path_to_validation_data,test_tfms)\n",
        "#     val_dl = DataLoader(val_ds,batch_size=32,shuffle=True,num_workers=3,pin_memory=True)\n",
        "#     model = ResNet9(3,10)\n",
        "#     model.load_state_dict(torch.load(\"imp/face_detect_0.9877451062202454.pth\"))\n",
        "#     results = evaluate(model,val_dl)\n",
        "#     return results\n",
        "\n",
        "# print(validate_results(\"data/test\"))"
      ]
    },
    {
      "cell_type": "markdown",
      "metadata": {},
      "source": [
        "### Functions for plotting graphs"
      ]
    },
    {
      "cell_type": "code",
      "execution_count": null,
      "metadata": {},
      "outputs": [],
      "source": [
        "def plot_accuracies(history):\n",
        "  accuracies = [x['val_acc'] for x in history]\n",
        "  plt.plot(accuracies, '-x')\n",
        "  plt.xlabel('epoch')\n",
        "  plt.ylabel('accuracy')\n",
        "  plt.title('Acc vs Epochs')\n",
        "\n",
        "def plot_loss(history):\n",
        "  loss = [x['val_loss'] for x in history]\n",
        "  plt.plot(loss, '-x')\n",
        "  plt.xlabel('epoch')\n",
        "  plt.ylabel('loss')\n",
        "  plt.title('Loss vs Epochs')\n",
        "\n",
        "def plot_lr(history):\n",
        "  lr = [x['lrs'] for x in history]\n",
        "  plt.plot(lr, '-x')\n",
        "  plt.xlabel('epoch')\n",
        "  plt.ylabel('learning_rates')\n",
        "  plt.title('Learning_rates vs Epochs')"
      ]
    },
    {
      "cell_type": "code",
      "execution_count": null,
      "metadata": {},
      "outputs": [],
      "source": [
        "plot_loss(ret_data)"
      ]
    },
    {
      "cell_type": "code",
      "execution_count": null,
      "metadata": {},
      "outputs": [],
      "source": [
        "plot_accuracies(ret_data)"
      ]
    },
    {
      "cell_type": "code",
      "execution_count": null,
      "metadata": {},
      "outputs": [],
      "source": [
        "plot_lr(ret_data)"
      ]
    },
    {
      "cell_type": "markdown",
      "metadata": {},
      "source": [
        "### Function for predicting Image"
      ]
    },
    {
      "cell_type": "code",
      "execution_count": null,
      "metadata": {},
      "outputs": [],
      "source": [
        "def predict_image(img, model):\n",
        "    # Convert to a batch of 1\n",
        "    xb = to_device(img.unsqueeze(0), device)\n",
        "    # Get predictions from model\n",
        "    yb = model(xb)\n",
        "    # Pick index with highest probability\n",
        "    a, preds  = torch.max(yb, dim=1)\n",
        "    # Retrieve the class label\n",
        "    return classes[preds[0].item()]"
      ]
    },
    {
      "cell_type": "code",
      "execution_count": null,
      "metadata": {},
      "outputs": [],
      "source": [
        "img, label = test_ds[100]\n",
        "print(img.shape)\n",
        "plt.imshow(img.permute(1, 2, 0))\n",
        "print('Label:', classes[label], ', Predicted:', predict_image(img, model))"
      ]
    }
  ],
  "metadata": {
    "accelerator": "GPU",
    "colab": {
      "collapsed_sections": [],
      "name": "rnn_simpsons.ipynb",
      "provenance": []
    },
    "interpreter": {
      "hash": "ac59ebe37160ed0dfa835113d9b8498d9f09ceb179beaac4002f036b9467c963"
    },
    "kernelspec": {
      "display_name": "Python 3.9.6 64-bit",
      "name": "python3"
    },
    "language_info": {
      "codemirror_mode": {
        "name": "ipython",
        "version": 3
      },
      "file_extension": ".py",
      "mimetype": "text/x-python",
      "name": "python",
      "nbconvert_exporter": "python",
      "pygments_lexer": "ipython3",
      "version": "3.10.2"
    },
    "orig_nbformat": 4
  },
  "nbformat": 4,
  "nbformat_minor": 2
}
