{
 "cells": [
  {
   "cell_type": "code",
   "execution_count": 1,
   "metadata": {},
   "outputs": [],
   "source": [
    "import pandas as pd\n",
    "import numpy as np\n",
    "import matplotlib.pyplot as plt\n",
    "import torch.nn as nn\n",
    "import torch\n",
    "import os"
   ]
  },
  {
   "cell_type": "code",
   "execution_count": 2,
   "metadata": {},
   "outputs": [
    {
     "data": {
      "text/html": [
       "<div>\n",
       "<style scoped>\n",
       "    .dataframe tbody tr th:only-of-type {\n",
       "        vertical-align: middle;\n",
       "    }\n",
       "\n",
       "    .dataframe tbody tr th {\n",
       "        vertical-align: top;\n",
       "    }\n",
       "\n",
       "    .dataframe thead th {\n",
       "        text-align: right;\n",
       "    }\n",
       "</style>\n",
       "<table border=\"1\" class=\"dataframe\">\n",
       "  <thead>\n",
       "    <tr style=\"text-align: right;\">\n",
       "      <th></th>\n",
       "      <th>step</th>\n",
       "      <th>type</th>\n",
       "      <th>amount</th>\n",
       "      <th>nameOrig</th>\n",
       "      <th>oldbalanceOrg</th>\n",
       "      <th>newbalanceOrig</th>\n",
       "      <th>nameDest</th>\n",
       "      <th>oldbalanceDest</th>\n",
       "      <th>newbalanceDest</th>\n",
       "      <th>isFraud</th>\n",
       "      <th>isFlaggedFraud</th>\n",
       "    </tr>\n",
       "  </thead>\n",
       "  <tbody>\n",
       "    <tr>\n",
       "      <th>0</th>\n",
       "      <td>1</td>\n",
       "      <td>PAYMENT</td>\n",
       "      <td>9839.64</td>\n",
       "      <td>C1231006815</td>\n",
       "      <td>170136.0</td>\n",
       "      <td>160296.36</td>\n",
       "      <td>M1979787155</td>\n",
       "      <td>0.0</td>\n",
       "      <td>0.0</td>\n",
       "      <td>0</td>\n",
       "      <td>0</td>\n",
       "    </tr>\n",
       "    <tr>\n",
       "      <th>1</th>\n",
       "      <td>1</td>\n",
       "      <td>PAYMENT</td>\n",
       "      <td>1864.28</td>\n",
       "      <td>C1666544295</td>\n",
       "      <td>21249.0</td>\n",
       "      <td>19384.72</td>\n",
       "      <td>M2044282225</td>\n",
       "      <td>0.0</td>\n",
       "      <td>0.0</td>\n",
       "      <td>0</td>\n",
       "      <td>0</td>\n",
       "    </tr>\n",
       "    <tr>\n",
       "      <th>2</th>\n",
       "      <td>1</td>\n",
       "      <td>TRANSFER</td>\n",
       "      <td>181.00</td>\n",
       "      <td>C1305486145</td>\n",
       "      <td>181.0</td>\n",
       "      <td>0.00</td>\n",
       "      <td>C553264065</td>\n",
       "      <td>0.0</td>\n",
       "      <td>0.0</td>\n",
       "      <td>1</td>\n",
       "      <td>0</td>\n",
       "    </tr>\n",
       "    <tr>\n",
       "      <th>3</th>\n",
       "      <td>1</td>\n",
       "      <td>CASH_OUT</td>\n",
       "      <td>181.00</td>\n",
       "      <td>C840083671</td>\n",
       "      <td>181.0</td>\n",
       "      <td>0.00</td>\n",
       "      <td>C38997010</td>\n",
       "      <td>21182.0</td>\n",
       "      <td>0.0</td>\n",
       "      <td>1</td>\n",
       "      <td>0</td>\n",
       "    </tr>\n",
       "    <tr>\n",
       "      <th>4</th>\n",
       "      <td>1</td>\n",
       "      <td>PAYMENT</td>\n",
       "      <td>11668.14</td>\n",
       "      <td>C2048537720</td>\n",
       "      <td>41554.0</td>\n",
       "      <td>29885.86</td>\n",
       "      <td>M1230701703</td>\n",
       "      <td>0.0</td>\n",
       "      <td>0.0</td>\n",
       "      <td>0</td>\n",
       "      <td>0</td>\n",
       "    </tr>\n",
       "  </tbody>\n",
       "</table>\n",
       "</div>"
      ],
      "text/plain": [
       "   step      type    amount     nameOrig  oldbalanceOrg  newbalanceOrig  \\\n",
       "0     1   PAYMENT   9839.64  C1231006815       170136.0       160296.36   \n",
       "1     1   PAYMENT   1864.28  C1666544295        21249.0        19384.72   \n",
       "2     1  TRANSFER    181.00  C1305486145          181.0            0.00   \n",
       "3     1  CASH_OUT    181.00   C840083671          181.0            0.00   \n",
       "4     1   PAYMENT  11668.14  C2048537720        41554.0        29885.86   \n",
       "\n",
       "      nameDest  oldbalanceDest  newbalanceDest  isFraud  isFlaggedFraud  \n",
       "0  M1979787155             0.0             0.0        0               0  \n",
       "1  M2044282225             0.0             0.0        0               0  \n",
       "2   C553264065             0.0             0.0        1               0  \n",
       "3    C38997010         21182.0             0.0        1               0  \n",
       "4  M1230701703             0.0             0.0        0               0  "
      ]
     },
     "execution_count": 2,
     "metadata": {},
     "output_type": "execute_result"
    }
   ],
   "source": [
    "data = pd.read_csv(\"credit_card.csv\")\n",
    "data.head()"
   ]
  },
  {
   "cell_type": "code",
   "execution_count": 3,
   "metadata": {},
   "outputs": [
    {
     "name": "stdout",
     "output_type": "stream",
     "text": [
      "6362620 6362620\n"
     ]
    }
   ],
   "source": [
    "input_vars = data[[\"amount\",\"oldbalanceOrg\",\"newbalanceOrig\",\"oldbalanceDest\"]]\n",
    "target_vars = data[[\"isFraud\"]]\n",
    "print(len(input_vars),len(target_vars))"
   ]
  },
  {
   "cell_type": "code",
   "execution_count": 4,
   "metadata": {},
   "outputs": [
    {
     "name": "stdout",
     "output_type": "stream",
     "text": [
      "(6362620, 4)\n",
      "(6362620, 1)\n"
     ]
    }
   ],
   "source": [
    "input_ar = np.array(input_vars)\n",
    "target_ar = np.array(target_vars)\n",
    "\n",
    "print(input_ar.shape)\n",
    "print(target_ar.shape)"
   ]
  },
  {
   "cell_type": "code",
   "execution_count": 5,
   "metadata": {},
   "outputs": [],
   "source": [
    "from sklearn.model_selection import train_test_split"
   ]
  },
  {
   "cell_type": "code",
   "execution_count": 6,
   "metadata": {},
   "outputs": [],
   "source": [
    "inputs_train,inputs_test,targets_train,targets_test = train_test_split(input_ar, target_ar, test_size=0.20)"
   ]
  },
  {
   "cell_type": "code",
   "execution_count": 7,
   "metadata": {},
   "outputs": [],
   "source": [
    "inputs_train = torch.from_numpy(inputs_train.astype(np.float32))\n",
    "inputs_test = torch.from_numpy(inputs_test.astype(np.float32))\n",
    "targets_train = torch.from_numpy(targets_train.astype(np.float32))\n",
    "targets_test = torch.from_numpy(targets_test.astype(np.float32))"
   ]
  },
  {
   "cell_type": "code",
   "execution_count": 8,
   "metadata": {},
   "outputs": [
    {
     "name": "stdout",
     "output_type": "stream",
     "text": [
      "torch.Size([5090096, 4])\n",
      "torch.Size([1272524, 4])\n",
      "torch.Size([5090096, 1])\n",
      "torch.Size([1272524, 1])\n"
     ]
    }
   ],
   "source": [
    "print(inputs_train.shape)\n",
    "print(inputs_test.shape)\n",
    "print(targets_train.shape)\n",
    "print(targets_test.shape)"
   ]
  },
  {
   "cell_type": "code",
   "execution_count": 9,
   "metadata": {},
   "outputs": [],
   "source": [
    "class LogisticRegression(nn.Module):\n",
    "    def __init__(self,no_of_features):\n",
    "        super(LogisticRegression, self).__init__()\n",
    "        self.linear1 = nn.Linear(no_of_features,10)\n",
    "        self.relu = nn.ReLU()\n",
    "        self.linear2 = nn.Linear(10,1)\n",
    "        self.sigmoid = nn.Sigmoid()\n",
    "        \n",
    "\n",
    "    def forward(self, targets_train ):\n",
    "        out = self.linear1(targets_train)\n",
    "        out  = self.relu(out)\n",
    "        out = self.linear2(out)\n",
    "        out = self.sigmoid(out)\n",
    "        \n",
    "        return out\n",
    "\n",
    "model = LogisticRegression(no_of_features=4)"
   ]
  },
  {
   "cell_type": "code",
   "execution_count": 10,
   "metadata": {},
   "outputs": [],
   "source": [
    "loss_fn = nn.BCELoss()\n",
    "optimizer = torch.optim.Adam(model.parameters(), lr=0.001)"
   ]
  },
  {
   "cell_type": "code",
   "execution_count": 14,
   "metadata": {},
   "outputs": [],
   "source": [
    "num_epochs = 15*5"
   ]
  },
  {
   "cell_type": "code",
   "execution_count": 12,
   "metadata": {},
   "outputs": [],
   "source": [
    "from tqdm.notebook import tqdm"
   ]
  },
  {
   "cell_type": "code",
   "execution_count": 15,
   "metadata": {},
   "outputs": [
    {
     "data": {
      "application/vnd.jupyter.widget-view+json": {
       "model_id": "242d77d6c2c24cedbc20125936f1be4d",
       "version_major": 2,
       "version_minor": 0
      },
      "text/plain": [
       "  0%|          | 0/75 [00:00<?, ?it/s]"
      ]
     },
     "metadata": {},
     "output_type": "display_data"
    },
    {
     "name": "stdout",
     "output_type": "stream",
     "text": [
      "Epoch: 3, Loss: 37.8088, ACC: 0.626918613910675\n",
      "Epoch: 6, Loss: 35.9997, ACC: 0.6493582725524902\n",
      "Epoch: 9, Loss: 29.2198, ACC: 0.7380701899528503\n",
      "Epoch: 12, Loss: 21.0895, ACC: 0.8108522891998291\n",
      "Epoch: 15, Loss: 13.0948, ACC: 0.8976773619651794\n",
      "Epoch: 18, Loss: 5.4617, ACC: 0.960547685623169\n",
      "Epoch: 21, Loss: 3.3618, ACC: 0.9691824913024902\n",
      "Epoch: 24, Loss: 2.2319, ACC: 0.979430615901947\n",
      "Epoch: 27, Loss: 1.7901, ACC: 0.9830077886581421\n",
      "Epoch: 30, Loss: 1.4893, ACC: 0.985869824886322\n",
      "Epoch: 33, Loss: 1.2254, ACC: 0.9883350133895874\n",
      "Epoch: 36, Loss: 0.9961, ACC: 0.9906123280525208\n",
      "Epoch: 39, Loss: 0.7577, ACC: 0.9930539727210999\n",
      "Epoch: 42, Loss: 0.5375, ACC: 0.995206356048584\n",
      "Epoch: 45, Loss: 0.3694, ACC: 0.9969580173492432\n",
      "Epoch: 48, Loss: 0.2141, ACC: 0.998092770576477\n",
      "Epoch: 51, Loss: 0.1702, ACC: 0.998456597328186\n",
      "Epoch: 54, Loss: 0.1408, ACC: 0.9986915588378906\n",
      "Epoch: 57, Loss: 0.1296, ACC: 0.9987339973449707\n",
      "Epoch: 60, Loss: 0.1296, ACC: 0.9987339973449707\n",
      "Epoch: 63, Loss: 0.1296, ACC: 0.9987339973449707\n",
      "Epoch: 66, Loss: 0.1296, ACC: 0.9987339973449707\n",
      "Epoch: 69, Loss: 0.1296, ACC: 0.9987339973449707\n",
      "Epoch: 72, Loss: 0.1296, ACC: 0.9987339973449707\n",
      "Epoch: 75, Loss: 0.1296, ACC: 0.9987339973449707\n"
     ]
    }
   ],
   "source": [
    "loss_hist = []\n",
    "acc_hist = []\n",
    "for epoch in tqdm(range(num_epochs)):\n",
    "    targets_preds = model(inputs_train)\n",
    "    loss = loss_fn(targets_preds,targets_train)\n",
    "\n",
    "    loss.backward()\n",
    "\n",
    "    optimizer.step()\n",
    "    optimizer.zero_grad()\n",
    "\n",
    "    if(epoch+1)%3 == 0:\n",
    "        with torch.no_grad():\n",
    "            targets_preds = model(inputs_test)\n",
    "            targets_preds_cls = targets_preds.round()\n",
    "            acc = targets_preds_cls.eq(targets_test).sum() / float(inputs_test.shape[0])\n",
    "            loss_hist.append(loss.item())\n",
    "            acc_hist.append(acc)\n",
    "            print(f'Epoch: {epoch+1}, Loss: {loss.item():.4f}, ACC: {acc}')"
   ]
  },
  {
   "cell_type": "code",
   "execution_count": 17,
   "metadata": {},
   "outputs": [],
   "source": [
    "torch.save(model,\"credit_card_4-1.pth\")"
   ]
  },
  {
   "cell_type": "code",
   "execution_count": 30,
   "metadata": {},
   "outputs": [],
   "source": [
    "def predict_value(inputs):\n",
    "    if len(inputs)==4:\n",
    "        inputs = np.array(inputs)\n",
    "        inputs = torch.from_numpy(inputs.astype(np.float32))\n",
    "        main_model = torch.load(\"credit_card_4-1.pth\")\n",
    "        pred = main_model(inputs)\n",
    "        value = pred.item()\n",
    "        if value < 0.5:\n",
    "            print(\"No Fraud\")\n",
    "        else:\n",
    "            print(\"Its a Fraud\")\n",
    "    else:\n",
    "        print(\"Length not matchd!\")"
   ]
  },
  {
   "cell_type": "code",
   "execution_count": 31,
   "metadata": {},
   "outputs": [
    {
     "name": "stdout",
     "output_type": "stream",
     "text": [
      "No Fraud\n"
     ]
    }
   ],
   "source": [
    "input_l = [9839.64,170136.0,160296.36,0.0]\n",
    "predict_value(input_l)"
   ]
  },
  {
   "cell_type": "code",
   "execution_count": null,
   "metadata": {},
   "outputs": [],
   "source": []
  }
 ],
 "metadata": {
  "kernelspec": {
   "display_name": "Python 3.10.5 64-bit",
   "language": "python",
   "name": "python3"
  },
  "language_info": {
   "codemirror_mode": {
    "name": "ipython",
    "version": 3
   },
   "file_extension": ".py",
   "mimetype": "text/x-python",
   "name": "python",
   "nbconvert_exporter": "python",
   "pygments_lexer": "ipython3",
   "version": "3.10.5"
  },
  "orig_nbformat": 4,
  "vscode": {
   "interpreter": {
    "hash": "e7370f93d1d0cde622a1f8e1c04877d8463912d04d973331ad4851f04de6915a"
   }
  }
 },
 "nbformat": 4,
 "nbformat_minor": 2
}
